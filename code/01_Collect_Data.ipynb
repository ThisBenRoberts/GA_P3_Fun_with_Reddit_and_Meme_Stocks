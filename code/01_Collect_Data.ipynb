{
 "cells": [
  {
   "cell_type": "markdown",
   "id": "dd0ee41f-fe12-42fa-b592-fd8e55e60c7a",
   "metadata": {},
   "source": [
    "# 1.0 Data Collection"
   ]
  },
  {
   "cell_type": "code",
   "execution_count": 17,
   "id": "b7bdaea8-91c5-4992-b41b-77b0452f664a",
   "metadata": {},
   "outputs": [
    {
     "name": "stdout",
     "output_type": "stream",
     "text": [
      "Target Number: 2000, Pull per request: 100, Number of loops: 20\n"
     ]
    }
   ],
   "source": [
    "# Import Libraries\n",
    "import pandas as pd\n",
    "import numpy as np\n",
    "import requests\n",
    "import time\n",
    "\n",
    "base_url = 'https://api.pushshift.io/reddit/'      # Url for the API we intend to use\n",
    "subreddits = ['options','stocks']             # list of subreddits we will be pulling from \n",
    "target_posts = 2000                           # total number of posts we want from each subreddit\n",
    "pull_per_req = 100                            # total number of posts we can pull per request\n",
    "num_to_loop = target_posts // pull_per_req    # number of loops necessary to pull the taget\n",
    "content_df = pd.DataFrame()                   # create one dataframe to hold all of the content\n",
    "\n",
    "# Double checking math \n",
    "# print(f'Target Number: {target_posts}, Pull per request: {pull_per_req}, Number of loops: {num_to_loop}')"
   ]
  },
  {
   "cell_type": "code",
   "execution_count": null,
   "id": "4125583d-3407-4419-b42d-5580410a7bb4",
   "metadata": {},
   "outputs": [],
   "source": [
    "for subreddit in subreddits:              #  Begin Loop through all subreddits\n",
    "\n",
    "    before = int(time.time())             # set begin time to right now because we will be getting the most recent 2000 posts\n",
    "    \n",
    "    for i in range(num_to_loop):          # next loop 20 times, as we will pull 100 posts at a time  (100*20 = 20000)\n",
    "        \n",
    "        params = {'subreddit':subreddit,  # set all necessary params in order to make the request\n",
    "                  'size':pull_per_req,\n",
    "                  'before':before}\n",
    "        res = requests.get(base_url+'search/submission/?',params=params)     # set RES equal to request responses\n",
    "        if res.status_code == 200:\n",
    "            data = res.json()                                                                        # turn the responses in to JSON\n",
    "            df_temp = pd.DataFrame(data['data'])[['title','author','selftext','media_only','num_comments','subreddit','created_utc']]     # Turn JSON in to dataframe \n",
    "        \n",
    "            content_df = content_df.append(df_temp)                                                 # apppend new JSON data to cumulative Subreddit data\n",
    "            before = df_temp['created_utc'].values[-1]                                             # set Before equal to the last created date/time\n",
    "            time.sleep(3)                                                       # pause for a few seconds so we dont make too many requests too quickly\n",
    "        \n",
    "        else:\n",
    "            print (res.status_code)\n",
    "            continue\n",
    "            \n",
    "   \n",
    "file_path = f'../data/reddit_content_{time.strftime(\"%Y%m%d-%H%M%S\")}.csv'\n",
    "content_df.to_csv(file_path)    \n",
    "\n",
    "# with help from https://stackoverflow.com/questions/10607688/how-to-create-a-file-name-with-the-current-date-time-in-python"
   ]
  },
  {
   "cell_type": "code",
   "execution_count": null,
   "id": "a8685e9b-2b37-4ef4-9198-b9aa24da113e",
   "metadata": {},
   "outputs": [],
   "source": [
    " content_df.head()"
   ]
  },
  {
   "cell_type": "code",
   "execution_count": null,
   "id": "3516915e-df1a-4005-97e9-f54b36237b9e",
   "metadata": {},
   "outputs": [],
   "source": [
    " content_df.shape       # Check the shape of the DF"
   ]
  },
  {
   "cell_type": "code",
   "execution_count": null,
   "id": "7cc4a650-7b2a-4b28-82cb-ac5f6067649e",
   "metadata": {},
   "outputs": [],
   "source": [
    "content_df.info()                 # Is the content what we expected?"
   ]
  },
  {
   "cell_type": "code",
   "execution_count": null,
   "id": "b281e1ff-6652-4b43-8246-6feb1e031157",
   "metadata": {},
   "outputs": [],
   "source": [
    "content_df['subreddit'].value_counts()     # This would basically be the null model, not sure why I keep getting 1998 for stocks though.  "
   ]
  },
  {
   "cell_type": "code",
   "execution_count": null,
   "id": "cc2ca94d-9cc6-4f36-8a80-4b030a6d01d7",
   "metadata": {},
   "outputs": [],
   "source": [
    "type(data)   # data is a dictionary where 'data' is the key, and the value is a list of posts"
   ]
  },
  {
   "cell_type": "code",
   "execution_count": null,
   "id": "3dc5a431-3ebc-428a-8e84-1a3443421762",
   "metadata": {},
   "outputs": [],
   "source": [
    "data['data']   # data['data'] is a list of dictionaries; a list of disctionaries is a pandas DF\n",
    "len(data['data'])"
   ]
  },
  {
   "cell_type": "code",
   "execution_count": null,
   "id": "e981c74c-43ad-4f23-bcbe-75bdfabe1511",
   "metadata": {},
   "outputs": [],
   "source": [
    "data['data'][0]        # data['data'][0] is the first dictionary in the list of dictionaries in the dictionary of 'data'"
   ]
  },
  {
   "cell_type": "code",
   "execution_count": null,
   "id": "3f361204-94ec-4d86-a227-cf3280d5dfdd",
   "metadata": {},
   "outputs": [],
   "source": []
  }
 ],
 "metadata": {
  "kernelspec": {
   "display_name": "Python 3 (ipykernel)",
   "language": "python",
   "name": "python3"
  },
  "language_info": {
   "codemirror_mode": {
    "name": "ipython",
    "version": 3
   },
   "file_extension": ".py",
   "mimetype": "text/x-python",
   "name": "python",
   "nbconvert_exporter": "python",
   "pygments_lexer": "ipython3",
   "version": "3.9.7"
  }
 },
 "nbformat": 4,
 "nbformat_minor": 5
}
