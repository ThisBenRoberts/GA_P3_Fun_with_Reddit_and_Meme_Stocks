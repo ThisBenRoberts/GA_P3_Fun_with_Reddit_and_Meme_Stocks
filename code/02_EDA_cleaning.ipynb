{
 "cells": [
  {
   "cell_type": "markdown",
   "id": "d4c666f3-8540-406e-bd18-7f5f1cf438c8",
   "metadata": {},
   "source": [
    "# 2.0 Data Cleaning, PreProcessing and EDA"
   ]
  },
  {
   "cell_type": "code",
   "execution_count": 324,
   "id": "cb7ba383-b2ce-4faa-9a42-dd51a8066db3",
   "metadata": {},
   "outputs": [],
   "source": [
    "# importing all of the usual suspects\n",
    "import matplotlib.pyplot as plt\n",
    "import pandas as pd\n",
    "import seaborn as sns\n",
    "import numpy as np\n",
    "import glob\n",
    "import os\n",
    "\n",
    "\n",
    "pd.options.display.max_colwidth = 400\n",
    "\n",
    "\n",
    "from sklearn.linear_model import LogisticRegression\n",
    "from sklearn.feature_extraction.text import CountVectorizer, TfidfVectorizer\n",
    "from sklearn.pipeline import Pipeline, FeatureUnion\n",
    "from sklearn.model_selection import train_test_split, GridSearchCV\n",
    "from sklearn.metrics import plot_confusion_matrix\n",
    "from sklearn.preprocessing import FunctionTransformer\n",
    "from nltk.sentiment.vader import SentimentIntensityAnalyzer\n",
    "from nltk import word_tokenize\n",
    "\n",
    "\n",
    "# Had to use this to install contractions\n",
    "# import sys  \n",
    "# !{sys.executable} -m pip install contractions\n",
    "import contractions\n",
    "from nltk.stem import WordNetLemmatizer"
   ]
  },
  {
   "cell_type": "markdown",
   "id": "fc5cbc8a-d7f0-4795-8dd2-9ecf155ff342",
   "metadata": {},
   "source": [
    "# 2.1 Cleaning"
   ]
  },
  {
   "cell_type": "code",
   "execution_count": 325,
   "id": "75266c11-1550-4d6b-ba23-461c25163ee1",
   "metadata": {},
   "outputs": [
    {
     "name": "stdout",
     "output_type": "stream",
     "text": [
      "../data\\reddit_content_20220227-105531.csv\n"
     ]
    },
    {
     "data": {
      "text/html": [
       "<div>\n",
       "<style scoped>\n",
       "    .dataframe tbody tr th:only-of-type {\n",
       "        vertical-align: middle;\n",
       "    }\n",
       "\n",
       "    .dataframe tbody tr th {\n",
       "        vertical-align: top;\n",
       "    }\n",
       "\n",
       "    .dataframe thead th {\n",
       "        text-align: right;\n",
       "    }\n",
       "</style>\n",
       "<table border=\"1\" class=\"dataframe\">\n",
       "  <thead>\n",
       "    <tr style=\"text-align: right;\">\n",
       "      <th></th>\n",
       "      <th>Unnamed: 0</th>\n",
       "      <th>title</th>\n",
       "      <th>author</th>\n",
       "      <th>selftext</th>\n",
       "      <th>media_only</th>\n",
       "      <th>num_comments</th>\n",
       "      <th>subreddit</th>\n",
       "      <th>created_utc</th>\n",
       "    </tr>\n",
       "  </thead>\n",
       "  <tbody>\n",
       "    <tr>\n",
       "      <th>0</th>\n",
       "      <td>0</td>\n",
       "      <td>Is there anyway to Trade US options in UK</td>\n",
       "      <td>yoghin</td>\n",
       "      <td>I can't find any platforms that offer US options as assets - only as CFDs.</td>\n",
       "      <td>False</td>\n",
       "      <td>0</td>\n",
       "      <td>options</td>\n",
       "      <td>1645974032</td>\n",
       "    </tr>\n",
       "    <tr>\n",
       "      <th>1</th>\n",
       "      <td>1</td>\n",
       "      <td>NVDA's short leg</td>\n",
       "      <td>listenless</td>\n",
       "      <td>I bought 240-200  Jan 2023 bear puts spread on NVDA back in October 21. That wasn't my best trade, frankly there were much lower hanging fruits (some of which I shorted as well). \\n\\nNow my short leg is profitable, and now pondering whether I should close it. I would do so if I had a conviction that NVDA has  at least -15% drop coming, which is not a stretch at all. \\n\\nAnyone has thoughts ab...</td>\n",
       "      <td>False</td>\n",
       "      <td>0</td>\n",
       "      <td>options</td>\n",
       "      <td>1645971541</td>\n",
       "    </tr>\n",
       "    <tr>\n",
       "      <th>2</th>\n",
       "      <td>2</td>\n",
       "      <td>Patrick Boyle breaks down tons of consequences of the sanctions on Russia's central bank -- there are literally hundreds of plays based on this analysis</td>\n",
       "      <td>professorfundamental</td>\n",
       "      <td>This video: \\n\\n[https://www.youtube.com/watch?v=3QlpTlz073k](https://www.youtube.com/watch?v=3QlpTlz073k)\\n\\nwas just posted Sunday morning UK time. It contains detailed analysis of companies and industries affected by sanctions on Russian banks. \\n\\nRemember  before you buy or sell anything: all the world's expert traders and  firms already know all this information and prices reflect this  ...</td>\n",
       "      <td>False</td>\n",
       "      <td>0</td>\n",
       "      <td>options</td>\n",
       "      <td>1645955748</td>\n",
       "    </tr>\n",
       "  </tbody>\n",
       "</table>\n",
       "</div>"
      ],
      "text/plain": [
       "   Unnamed: 0  \\\n",
       "0           0   \n",
       "1           1   \n",
       "2           2   \n",
       "\n",
       "                                                                                                                                                      title  \\\n",
       "0                                                                                                                 Is there anyway to Trade US options in UK   \n",
       "1                                                                                                                                          NVDA's short leg   \n",
       "2  Patrick Boyle breaks down tons of consequences of the sanctions on Russia's central bank -- there are literally hundreds of plays based on this analysis   \n",
       "\n",
       "                 author  \\\n",
       "0                yoghin   \n",
       "1            listenless   \n",
       "2  professorfundamental   \n",
       "\n",
       "                                                                                                                                                                                                                                                                                                                                                                                                          selftext  \\\n",
       "0                                                                                                                                                                                                                                                                                                                                       I can't find any platforms that offer US options as assets - only as CFDs.   \n",
       "1   I bought 240-200  Jan 2023 bear puts spread on NVDA back in October 21. That wasn't my best trade, frankly there were much lower hanging fruits (some of which I shorted as well). \\n\\nNow my short leg is profitable, and now pondering whether I should close it. I would do so if I had a conviction that NVDA has  at least -15% drop coming, which is not a stretch at all. \\n\\nAnyone has thoughts ab...   \n",
       "2  This video: \\n\\n[https://www.youtube.com/watch?v=3QlpTlz073k](https://www.youtube.com/watch?v=3QlpTlz073k)\\n\\nwas just posted Sunday morning UK time. It contains detailed analysis of companies and industries affected by sanctions on Russian banks. \\n\\nRemember  before you buy or sell anything: all the world's expert traders and  firms already know all this information and prices reflect this  ...   \n",
       "\n",
       "   media_only  num_comments subreddit  created_utc  \n",
       "0       False             0   options   1645974032  \n",
       "1       False             0   options   1645971541  \n",
       "2       False             0   options   1645955748  "
      ]
     },
     "execution_count": 325,
     "metadata": {},
     "output_type": "execute_result"
    }
   ],
   "source": [
    "\n",
    "list_of_files = glob.glob('../data/*.csv')   # * means all, use *.csv if we needed specific format\n",
    "latest_file = max(list_of_files, key=os.path.getctime)\n",
    "print(latest_file)\n",
    "df = pd.read_csv(latest_file)\n",
    "df.head(3)"
   ]
  },
  {
   "cell_type": "markdown",
   "id": "b54aecdb-c73f-445d-b5c3-63c396470c36",
   "metadata": {},
   "source": [
    "**Fill missing values**"
   ]
  },
  {
   "cell_type": "code",
   "execution_count": 326,
   "id": "5c5f4780-67b6-460c-a442-094434d31bb1",
   "metadata": {},
   "outputs": [
    {
     "data": {
      "text/plain": [
       "Unnamed: 0        0\n",
       "title             0\n",
       "author            0\n",
       "selftext        298\n",
       "media_only        0\n",
       "num_comments      0\n",
       "subreddit         0\n",
       "created_utc       0\n",
       "dtype: int64"
      ]
     },
     "execution_count": 326,
     "metadata": {},
     "output_type": "execute_result"
    }
   ],
   "source": [
    "df.isnull().sum()"
   ]
  },
  {
   "cell_type": "code",
   "execution_count": 327,
   "id": "74c64edd-b0e6-450f-bf6c-3b91b0bb8038",
   "metadata": {},
   "outputs": [],
   "source": [
    "df['selftext'].fillna('', inplace=True)"
   ]
  },
  {
   "cell_type": "markdown",
   "id": "2ca54bf6-f243-4e06-bf7c-d5fe488af414",
   "metadata": {},
   "source": [
    "**Dropping the \"Unnamed: 0\" column**"
   ]
  },
  {
   "cell_type": "code",
   "execution_count": 328,
   "id": "ece8bb77-f4b7-4ffc-aa1f-079ee9850f99",
   "metadata": {},
   "outputs": [],
   "source": [
    "df.drop(columns=['Unnamed: 0'],inplace=True)"
   ]
  },
  {
   "cell_type": "markdown",
   "id": "0643865b-7c2b-4b80-ab34-551b7531c5b8",
   "metadata": {},
   "source": [
    "**Formatting the Title and Selftext**"
   ]
  },
  {
   "cell_type": "code",
   "execution_count": 329,
   "id": "25cc77ef-a27c-463b-b799-51210743cce7",
   "metadata": {},
   "outputs": [],
   "source": [
    "df['title'].str.lower();\n",
    "df['selftext'].str.lower();"
   ]
  },
  {
   "cell_type": "markdown",
   "id": "d7130c72-19e7-4d47-b2db-24840b745d67",
   "metadata": {},
   "source": [
    "**Mapping to create target column**"
   ]
  },
  {
   "cell_type": "code",
   "execution_count": 330,
   "id": "41ca6f82-db1d-47c1-a112-cfa2c3774c76",
   "metadata": {},
   "outputs": [],
   "source": [
    "df['subreddit'] = df['subreddit'].map({\"options\":0 , \"stocks\":1 })"
   ]
  },
  {
   "cell_type": "markdown",
   "id": "44497e79-87e4-4db9-a5f7-dce53c19cfd8",
   "metadata": {},
   "source": [
    "**Creating Title Length columns**"
   ]
  },
  {
   "cell_type": "code",
   "execution_count": 331,
   "id": "28245138-8ac4-4b7c-9b04-720076a907cd",
   "metadata": {},
   "outputs": [],
   "source": [
    "df['title_length'] = df['title'].str.len()\n",
    "df['title_word_count'] = df['title'].str.split().str.len()"
   ]
  },
  {
   "cell_type": "markdown",
   "id": "5c77c749-3eb9-48f2-a262-251003da90d1",
   "metadata": {},
   "source": [
    "**Creating Word Count Columns**"
   ]
  },
  {
   "cell_type": "code",
   "execution_count": 332,
   "id": "23db3947-4dbf-4ef0-82bc-8cc70c586e27",
   "metadata": {},
   "outputs": [],
   "source": [
    "df['selftext_length'] = df['title'].str.len()\n",
    "df['selftext_word_count'] = df['selftext'].str.split().str.len()"
   ]
  },
  {
   "cell_type": "markdown",
   "id": "8290843d-40ba-4cb0-b088-ac9cac310b9e",
   "metadata": {},
   "source": [
    "# 2.2 EDA"
   ]
  },
  {
   "cell_type": "markdown",
   "id": "8cfb92fb-6eae-4d19-bb6f-75f90ef4f7ca",
   "metadata": {
    "tags": []
   },
   "source": [
    "**2.2.1 Word Counts per Title**"
   ]
  },
  {
   "cell_type": "code",
   "execution_count": 333,
   "id": "b509c000-f734-49d8-bf06-a527c5eb4137",
   "metadata": {},
   "outputs": [
    {
     "name": "stdout",
     "output_type": "stream",
     "text": [
      "**** MINIMUMS ****\n",
      "Minimum Title Word Count (r/Options): 1\n",
      "Minimum Title Word Count (r/Stocks): 1\n",
      "\n",
      "**** MAXIMUMS ****\n",
      "Maximum Title Word Count (r/Options): 65\n",
      "Maximum Title Word Count (r/Stocks): 32\n",
      "\n",
      "**** AVERAGES ****\n",
      "Average Title Word Count (r/Options): 9.05\n",
      "Average Title Word Count (r/Stocks): 8.58\n"
     ]
    }
   ],
   "source": [
    "# It seems like there ought to be a function we could create to generate this code.  If time allows, revisit.\n",
    "\n",
    "print(\"**** MINIMUMS ****\")\n",
    "print(f\"Minimum Title Word Count (r/Options): {round(df[df['subreddit']==0]['title_word_count'].min(),2)}\")\n",
    "print(f\"Minimum Title Word Count (r/Stocks): {round(df[df['subreddit']==1]['title_word_count'].min(),2)}\")\n",
    "print(\"\\n**** MAXIMUMS ****\")\n",
    "print(f\"Maximum Title Word Count (r/Options): {round(df[df['subreddit']==0]['title_word_count'].max(),2)}\")\n",
    "print(f\"Maximum Title Word Count (r/Stocks): {round(df[df['subreddit']==1]['title_word_count'].max(),2)}\")\n",
    "print(\"\\n**** AVERAGES ****\")\n",
    "print(f\"Average Title Word Count (r/Options): {round(df[df['subreddit']==0]['title_word_count'].mean(),2)}\")\n",
    "print(f\"Average Title Word Count (r/Stocks): {round(df[df['subreddit']==1]['title_word_count'].mean(),2)}\")"
   ]
  },
  {
   "cell_type": "markdown",
   "id": "4410a370-ace6-4684-a6d6-6f21844a9d9e",
   "metadata": {
    "tags": []
   },
   "source": [
    "**2.2.2 Char Length per Title**"
   ]
  },
  {
   "cell_type": "code",
   "execution_count": 334,
   "id": "7663d547-6c0f-420d-810a-26f18a7be245",
   "metadata": {},
   "outputs": [
    {
     "name": "stdout",
     "output_type": "stream",
     "text": [
      "**** MINIMUMS ****\n",
      "Minimum Title Length (r/Options): 1\n",
      "Minimum Title Length (r/Stocks): 12\n",
      "\n",
      "**** MAXIMUMS ****\n",
      "Maximum Title Length (r/Options): 300\n",
      "Maximum Title Length (r/Stocks): 146\n",
      "\n",
      "**** AVERAGES ****\n",
      "Average Title Length (r/Options): 50.78\n",
      "Average Title Length (r/Stocks): 48.75\n"
     ]
    }
   ],
   "source": [
    "\n",
    "print(\"**** MINIMUMS ****\")\n",
    "print(f\"Minimum Title Length (r/Options): {round(df[df['subreddit']==0]['title_length'].min(),2)}\")\n",
    "print(f\"Minimum Title Length (r/Stocks): {round(df[df['subreddit']==1]['title_length'].min(),2)}\")\n",
    "print(\"\\n**** MAXIMUMS ****\")\n",
    "print(f\"Maximum Title Length (r/Options): {round(df[df['subreddit']==0]['title_length'].max(),2)}\")\n",
    "print(f\"Maximum Title Length (r/Stocks): {round(df[df['subreddit']==1]['title_length'].max(),2)}\")\n",
    "print(\"\\n**** AVERAGES ****\")\n",
    "print(f\"Average Title Length (r/Options): {round(df[df['subreddit']==0]['title_length'].mean(),2)}\")\n",
    "print(f\"Average Title Length (r/Stocks): {round(df[df['subreddit']==1]['title_length'].mean(),2)}\")"
   ]
  },
  {
   "cell_type": "markdown",
   "id": "d332cd0d-54b0-4932-a899-e90cf1a4ebba",
   "metadata": {
    "tags": []
   },
   "source": [
    "**2.2.3 Word Count per Post**"
   ]
  },
  {
   "cell_type": "code",
   "execution_count": 335,
   "id": "086842b7-346d-4c4d-8171-e5bc3f896d8d",
   "metadata": {
    "tags": []
   },
   "outputs": [
    {
     "name": "stdout",
     "output_type": "stream",
     "text": [
      "**** MINIMUMS ****\n",
      "Minimum Word Count per Post (r/Options): 0\n",
      "Minimum Word Count per Post (r/Stocks): 0\n",
      "\n",
      "**** MAXIMUMS ****\n",
      "Maximum Word Count per Post (r/Options): 2574\n",
      "Maximum Word Count per Post (r/Stocks): 5777\n",
      "\n",
      "**** AVERAGES ****\n",
      "Average Word Count per Post (r/Options): 64.02\n",
      "Average Word Count per Post (r/Stocks): 76.64\n"
     ]
    }
   ],
   "source": [
    "print(\"**** MINIMUMS ****\")\n",
    "print(f\"Minimum Word Count per Post (r/Options): {round(df[df['subreddit']==0]['selftext_word_count'].min(),2)}\")\n",
    "print(f\"Minimum Word Count per Post (r/Stocks): {round(df[df['subreddit']==1]['selftext_word_count'].min(),2)}\")\n",
    "print(\"\\n**** MAXIMUMS ****\")\n",
    "print(f\"Maximum Word Count per Post (r/Options): {round(df[df['subreddit']==0]['selftext_word_count'].max(),2)}\")\n",
    "print(f\"Maximum Word Count per Post (r/Stocks): {round(df[df['subreddit']==1]['selftext_word_count'].max(),2)}\")\n",
    "print(\"\\n**** AVERAGES ****\")\n",
    "print(f\"Average Word Count per Post (r/Options): {round(df[df['subreddit']==0]['selftext_word_count'].mean(),2)}\")\n",
    "print(f\"Average Word Count per Post (r/Stocks): {round(df[df['subreddit']==1]['selftext_word_count'].mean(),2)}\")"
   ]
  },
  {
   "cell_type": "markdown",
   "id": "636011b2-6efa-4865-a7af-1053e65ad6c5",
   "metadata": {
    "tags": []
   },
   "source": [
    "**2.2.4 Char Length per Post**"
   ]
  },
  {
   "cell_type": "code",
   "execution_count": 336,
   "id": "4cc8ef82-5b0c-4fa4-b9aa-6624fe19d05c",
   "metadata": {
    "tags": []
   },
   "outputs": [
    {
     "name": "stdout",
     "output_type": "stream",
     "text": [
      "**** MINIMUMS ****\n",
      "Minimum Char Length per post (r/Options): 1\n",
      "Minimum Char Length post (r/Stocks): 12\n",
      "\n",
      "**** MAXIMUMS ****\n",
      "Maximum Char Length per post (r/Options): 300\n",
      "Maximum Char Length per post (r/Stocks): 146\n",
      "\n",
      "**** AVERAGES ****\n",
      "Average Char Length per post (r/Options): 50.78\n",
      "Average Char Length per post (r/Stocks): 48.75\n"
     ]
    }
   ],
   "source": [
    "print(\"**** MINIMUMS ****\")\n",
    "print(f\"Minimum Char Length per post (r/Options): {round(df[df['subreddit']==0]['selftext_length'].min(),2)}\")\n",
    "print(f\"Minimum Char Length post (r/Stocks): {round(df[df['subreddit']==1]['selftext_length'].min(),2)}\")\n",
    "print(\"\\n**** MAXIMUMS ****\")\n",
    "print(f\"Maximum Char Length per post (r/Options): {round(df[df['subreddit']==0]['selftext_length'].max(),2)}\")\n",
    "print(f\"Maximum Char Length per post (r/Stocks): {round(df[df['subreddit']==1]['selftext_length'].max(),2)}\")\n",
    "\n",
    "print(\"\\n**** AVERAGES ****\")\n",
    "print(f\"Average Char Length per post (r/Options): {round(df[df['subreddit']==0]['selftext_length'].mean(),2)}\")\n",
    "print(f\"Average Char Length per post (r/Stocks): {round(df[df['subreddit']==1]['selftext_length'].mean(),2)}\")"
   ]
  },
  {
   "cell_type": "markdown",
   "id": "84f4e1b1-d225-4ca1-9588-d3f0c58d0061",
   "metadata": {
    "tags": []
   },
   "source": [
    "**2.2.5 Comments per post**"
   ]
  },
  {
   "cell_type": "code",
   "execution_count": 337,
   "id": "6d93ecd5-2e88-40f6-9742-8425d73d5f04",
   "metadata": {},
   "outputs": [
    {
     "name": "stdout",
     "output_type": "stream",
     "text": [
      "**** MINIMUMS ****\n",
      "Minimum Comments per post (r/Options): 0\n",
      "Minimum Comments per post (r/Stocks): 0\n",
      "\n",
      "**** MAXIMUMS ****\n",
      "Maximum Comments per post (r/Options): 171\n",
      "Maximum Comments per post (r/Stocks): 21\n",
      "\n",
      "**** AVERAGES ****\n",
      "Average Comments per post (r/Options): 1.24\n",
      "Average Comments per post (r/Stocks): 0.27\n"
     ]
    }
   ],
   "source": [
    "\n",
    "print(\"**** MINIMUMS ****\")\n",
    "print(f\"Minimum Comments per post (r/Options): {round(df[df['subreddit']==0]['num_comments'].min(),2)}\")\n",
    "print(f\"Minimum Comments per post (r/Stocks): {round(df[df['subreddit']==1]['num_comments'].min(),2)}\")\n",
    "print(\"\\n**** MAXIMUMS ****\")\n",
    "print(f\"Maximum Comments per post (r/Options): {round(df[df['subreddit']==0]['num_comments'].max(),2)}\")\n",
    "print(f\"Maximum Comments per post (r/Stocks): {round(df[df['subreddit']==1]['num_comments'].max(),2)}\")\n",
    "\n",
    "print(\"\\n**** AVERAGES ****\")\n",
    "print(f\"Average Comments per post (r/Options): {round(df[df['subreddit']==0]['num_comments'].mean(),2)}\")\n",
    "print(f\"Average Comments per post (r/Stocks): {round(df[df['subreddit']==1]['num_comments'].mean(),2)}\")"
   ]
  },
  {
   "cell_type": "markdown",
   "id": "45941cbb-6ea3-4b95-9b7c-95850514de01",
   "metadata": {
    "tags": []
   },
   "source": [
    "### 2.2.6 Visualizations"
   ]
  },
  {
   "cell_type": "code",
   "execution_count": 338,
   "id": "b2b95356-2678-4839-8290-61fd3cf43db9",
   "metadata": {},
   "outputs": [],
   "source": [
    "# ****  Previous Chart for future reference *****\n",
    "# # Distibution of Word Counts\n",
    "# plt.figure(figsize=(10,10))\n",
    "# # plotting first histogram\n",
    "# plt.hist(df[df['subreddit']==0]['title_word_count'],label='Options', alpha=1,)\n",
    "# # plotting second histogram\n",
    "# plt.hist(df[df['subreddit']==1]['title_word_count'],label='Stocks', alpha=.8,)\n",
    "# # Showing the plot using plt.show()\n",
    "# plt.legend()\n",
    "# plt.show()"
   ]
  },
  {
   "cell_type": "markdown",
   "id": "0e364524-38a7-4c10-a5f5-1619e06b8a52",
   "metadata": {},
   "source": [
    "**Creating specific dataframes to make visuals easier to create**"
   ]
  },
  {
   "cell_type": "code",
   "execution_count": 339,
   "id": "c5d6051b-ddc0-47fb-9fba-02e53d0d97f5",
   "metadata": {},
   "outputs": [],
   "source": [
    "options = df[df['subreddit']==0]\n",
    "stocks = df[df['subreddit']==1]"
   ]
  },
  {
   "cell_type": "markdown",
   "id": "e0aeaaa0-cae3-4064-a035-8efb28ec002a",
   "metadata": {},
   "source": [
    "**Distibution of Title Word Counts by subreddit**"
   ]
  },
  {
   "cell_type": "code",
   "execution_count": 340,
   "id": "e6dda400-10bd-43ca-9fef-87be7ac3d5d0",
   "metadata": {
    "tags": []
   },
   "outputs": [
    {
     "data": {
      "image/png": "[encoded data removed]",
      "text/plain": [
       "<Figure size 720x720 with 1 Axes>"
      ]
     },
     "metadata": {
      "needs_background": "light"
     },
     "output_type": "display_data"
    }
   ],
   "source": [
    "plt.figure(figsize=(10,10))\n",
    "\n",
    "sns.histplot(data=options,bins = 30, x=\"title_word_count\", color='darkorange',label='r/Options').set(title='Title Length Distribution (by Word Count)',xlabel='Word Counts',ylabel='# of Occurences')\n",
    "sns.histplot(data=stocks, bins =30, x=\"title_word_count\", color='skyblue',label='r/Stocks')\n",
    "\n",
    "plt.legend()\n",
    "plt.show();"
   ]
  },
  {
   "cell_type": "markdown",
   "id": "e65ad28f-9abb-4a49-9dfd-2f8c9edffd8e",
   "metadata": {},
   "source": [
    "**Distibution of Title Char Length by subreddit**"
   ]
  },
  {
   "cell_type": "code",
   "execution_count": 341,
   "id": "cfa52176-c34c-47aa-ac35-b4c8f1a19cb5",
   "metadata": {},
   "outputs": [
    {
     "data": {
      "image/png": "[encoded data removed]",
      "text/plain": [
       "<Figure size 720x720 with 1 Axes>"
      ]
     },
     "metadata": {
      "needs_background": "light"
     },
     "output_type": "display_data"
    }
   ],
   "source": [
    "plt.figure(figsize=(10,10))\n",
    "\n",
    "sns.histplot(data=options,bins = 30, x=\"title_length\", color='darkorange',label='r/Options').set(title='Title Length Distribution (by Character Count)',xlabel='Character Counts',ylabel='# of Occurences')\n",
    "sns.histplot(data=stocks, bins =30, x=\"title_length\", color='skyblue',label='r/Stocks')\n",
    "\n",
    "plt.legend()\n",
    "plt.show();"
   ]
  },
  {
   "cell_type": "markdown",
   "id": "c3c5c9dd-cc52-463b-a919-4e4209b2dc86",
   "metadata": {},
   "source": [
    "**Distibution of Post Word Counts by subreddit**"
   ]
  },
  {
   "cell_type": "code",
   "execution_count": 342,
   "id": "a47568bf-7bd6-497d-af52-2178b73d4614",
   "metadata": {
    "tags": []
   },
   "outputs": [
    {
     "data": {
      "image/png": "[encoded data removed]",
      "text/plain": [
       "<Figure size 720x720 with 1 Axes>"
      ]
     },
     "metadata": {
      "needs_background": "light"
     },
     "output_type": "display_data"
    }
   ],
   "source": [
    "plt.figure(figsize=(10,10))\n",
    "\n",
    "sns.histplot(data=options,bins = 30, x=\"selftext_word_count\", color='darkorange',label='r/Options').set(title='Post Length Distribution (by Word Count)',xlabel='Word Counts',ylabel='# of Occurences')\n",
    "sns.histplot(data=stocks, bins =30, x=\"selftext_word_count\", color='skyblue',label='r/Stocks')\n",
    "\n",
    "plt.legend()\n",
    "plt.show();"
   ]
  },
  {
   "cell_type": "markdown",
   "id": "ecca9083-e288-40f6-b7ce-dc5815488040",
   "metadata": {},
   "source": [
    "**Distibution of Post Char Length by subreddit**"
   ]
  },
  {
   "cell_type": "code",
   "execution_count": 343,
   "id": "50726db9-0475-44b0-81bf-59f4e333a2a5",
   "metadata": {},
   "outputs": [
    {
     "data": {
      "image/png": "[encoded data removed]",
      "text/plain": [
       "<Figure size 720x720 with 1 Axes>"
      ]
     },
     "metadata": {
      "needs_background": "light"
     },
     "output_type": "display_data"
    }
   ],
   "source": [
    "plt.figure(figsize=(10,10))\n",
    "\n",
    "sns.histplot(data=options,bins = 30, x=\"selftext_length\", color='darkorange',label='r/Options').set(title='Post Length Distribution (by Character Count)',xlabel='Word Counts',ylabel='# of Occurences')\n",
    "sns.histplot(data=stocks, bins =30, x=\"selftext_length\", color='skyblue',label='r/Stocks')\n",
    "\n",
    "plt.legend()\n",
    "plt.show();"
   ]
  },
  {
   "cell_type": "markdown",
   "id": "dd6616f9-3434-4415-98e3-1a0699551a10",
   "metadata": {
    "tags": []
   },
   "source": [
    "**Distibution of Comments by subreddit**"
   ]
  },
  {
   "cell_type": "code",
   "execution_count": 344,
   "id": "fa2f9c81-86ec-4bab-b7c6-ed3c56d1ffa6",
   "metadata": {},
   "outputs": [
    {
     "data": {
      "image/png": "[encoded data removed]",
      "text/plain": [
       "<Figure size 720x720 with 1 Axes>"
      ]
     },
     "metadata": {
      "needs_background": "light"
     },
     "output_type": "display_data"
    }
   ],
   "source": [
    "plt.figure(figsize=(10,10))\n",
    "\n",
    "sns.histplot(data=options,bins = 10, x=\"num_comments\", color='darkorange',label='r/Options').set(title='Number of Comments',xlabel='Comment Count',ylabel='# of Occurences')\n",
    "sns.histplot(data=stocks, bins =10, x=\"num_comments\", color='skyblue',label='r/Stocks')\n",
    "\n",
    "plt.legend()\n",
    "plt.show();"
   ]
  },
  {
   "cell_type": "markdown",
   "id": "aed4d19c-25d7-4098-8449-4ecfc46f995d",
   "metadata": {
    "tags": []
   },
   "source": [
    "### 2.2.7 Posts over time and Author metrics"
   ]
  },
  {
   "cell_type": "markdown",
   "id": "44ff47db-0f5f-42ea-b583-f548468223c9",
   "metadata": {
    "tags": []
   },
   "source": [
    "**Posts over time by subreddit**"
   ]
  },
  {
   "cell_type": "code",
   "execution_count": 345,
   "id": "7ae29a0c-2c58-4250-9020-1ffb504f74d1",
   "metadata": {},
   "outputs": [
    {
     "data": {
      "text/plain": [
       "Timedelta('42 days 03:24:53')"
      ]
     },
     "execution_count": 345,
     "metadata": {},
     "output_type": "execute_result"
    }
   ],
   "source": [
    "#Options time span, 2000 posts pver the course of 42 days\n",
    "pd.to_datetime(df[df['subreddit']==0]['created_utc'].max(), unit='s') - pd.to_datetime(df[df['subreddit']==0]['created_utc'].min(), unit='s')\n",
    "#with help from https://pandas.pydata.org/docs/reference/api/pandas.to_datetime.html"
   ]
  },
  {
   "cell_type": "code",
   "execution_count": 346,
   "id": "a678f3e9-01bb-48ec-ace1-7cf522f6a653",
   "metadata": {},
   "outputs": [
    {
     "data": {
      "text/plain": [
       "Timedelta('15 days 13:09:58')"
      ]
     },
     "execution_count": 346,
     "metadata": {},
     "output_type": "execute_result"
    }
   ],
   "source": [
    "#Stocks time span,  2000 posts pver the course of 15 days\n",
    "pd.to_datetime(df[df['subreddit']==1]['created_utc'].max(), unit='s') - pd.to_datetime(df[df['subreddit']==1]['created_utc'].min(), unit='s')"
   ]
  },
  {
   "cell_type": "markdown",
   "id": "9831d4d6-9d2a-4e62-a26e-ea5fa09a5764",
   "metadata": {
    "tags": []
   },
   "source": [
    "**Unique Authors**"
   ]
  },
  {
   "cell_type": "code",
   "execution_count": 347,
   "id": "3528f5af-db5f-4d08-8f57-66ed123acb3d",
   "metadata": {},
   "outputs": [
    {
     "data": {
      "text/plain": [
       "2909"
      ]
     },
     "execution_count": 347,
     "metadata": {},
     "output_type": "execute_result"
    }
   ],
   "source": [
    "# of unique authors\n",
    "len(pd.unique(df['author']))"
   ]
  },
  {
   "cell_type": "code",
   "execution_count": 348,
   "id": "d6aa677a-dce1-4710-8d8f-cd095ca556fe",
   "metadata": {},
   "outputs": [
    {
     "name": "stdout",
     "output_type": "stream",
     "text": [
      "subreddit\n",
      "0    1415\n",
      "1    1551\n",
      "Name: author, dtype: int64\n"
     ]
    }
   ],
   "source": [
    "# of unique authors by subreddit\n",
    "print (df.groupby('subreddit')['author'].nunique())"
   ]
  },
  {
   "cell_type": "code",
   "execution_count": 349,
   "id": "fa461085-a26c-456a-b629-494795f3dcc5",
   "metadata": {},
   "outputs": [],
   "source": [
    "# Across 4000 posts, there are only 2909 unique users, so roughly 100 users are posting repeatedly on one or both for the subreddits. About 3.4%\n",
    "# when broken down by subreddit, there are about 57 users who are posting on both subreddits   (2966 - 2909), about 1.9% "
   ]
  },
  {
   "cell_type": "markdown",
   "id": "e706dc42-2658-4d9a-970b-37c03b065fca",
   "metadata": {},
   "source": [
    "**Author Stats**"
   ]
  },
  {
   "cell_type": "markdown",
   "id": "afaa413e-2152-4380-b799-4dcd8f28c0fe",
   "metadata": {},
   "source": [
    "Given more time, I would like to dive in deeper in to these and attempt to determine is there is any sort of \n",
    "correlation between the authors, the selftext (post) word count, and the number of comments per post.  \n",
    "My hypothesis is that some authors are more knowledgable and engaging.  Those might be people we want to track.\n",
    "Those that are more knowledgable may also be more likely to stocks/options and correctly reflect the direction \n",
    "that those commodities will be moving."
   ]
  },
  {
   "cell_type": "code",
   "execution_count": 350,
   "id": "53e4dbbf-7112-446a-944c-2a25b287bfc7",
   "metadata": {},
   "outputs": [
    {
     "name": "stderr",
     "output_type": "stream",
     "text": [
      "C:\\Users\\benro\\AppData\\Local\\Temp/ipykernel_66664/4159481351.py:1: FutureWarning: Indexing with multiple keys (implicitly converted to a tuple of keys) will be deprecated, use a list instead.\n",
      "  df.groupby('author')['title_length', 'title_word_count','num_comments','selftext_length','selftext_word_count'].mean().sort_values(by='title_length', ascending=False)\n"
     ]
    },
    {
     "data": {
      "text/html": [
       "<div>\n",
       "<style scoped>\n",
       "    .dataframe tbody tr th:only-of-type {\n",
       "        vertical-align: middle;\n",
       "    }\n",
       "\n",
       "    .dataframe tbody tr th {\n",
       "        vertical-align: top;\n",
       "    }\n",
       "\n",
       "    .dataframe thead th {\n",
       "        text-align: right;\n",
       "    }\n",
       "</style>\n",
       "<table border=\"1\" class=\"dataframe\">\n",
       "  <thead>\n",
       "    <tr style=\"text-align: right;\">\n",
       "      <th></th>\n",
       "      <th>title_length</th>\n",
       "      <th>title_word_count</th>\n",
       "      <th>num_comments</th>\n",
       "      <th>selftext_length</th>\n",
       "      <th>selftext_word_count</th>\n",
       "    </tr>\n",
       "    <tr>\n",
       "      <th>author</th>\n",
       "      <th></th>\n",
       "      <th></th>\n",
       "      <th></th>\n",
       "      <th></th>\n",
       "      <th></th>\n",
       "    </tr>\n",
       "  </thead>\n",
       "  <tbody>\n",
       "    <tr>\n",
       "      <th>Important-Disk-256</th>\n",
       "      <td>300.0</td>\n",
       "      <td>58.0</td>\n",
       "      <td>0.0</td>\n",
       "      <td>300.0</td>\n",
       "      <td>0.0</td>\n",
       "    </tr>\n",
       "    <tr>\n",
       "      <th>Important_Meet_7167</th>\n",
       "      <td>300.0</td>\n",
       "      <td>54.0</td>\n",
       "      <td>1.0</td>\n",
       "      <td>300.0</td>\n",
       "      <td>1.0</td>\n",
       "    </tr>\n",
       "    <tr>\n",
       "      <th>harryp0thead</th>\n",
       "      <td>297.0</td>\n",
       "      <td>57.0</td>\n",
       "      <td>0.0</td>\n",
       "      <td>297.0</td>\n",
       "      <td>0.0</td>\n",
       "    </tr>\n",
       "    <tr>\n",
       "      <th>cptcardinal</th>\n",
       "      <td>295.0</td>\n",
       "      <td>56.0</td>\n",
       "      <td>1.0</td>\n",
       "      <td>295.0</td>\n",
       "      <td>0.0</td>\n",
       "    </tr>\n",
       "    <tr>\n",
       "      <th>MarketXLS</th>\n",
       "      <td>290.0</td>\n",
       "      <td>45.0</td>\n",
       "      <td>1.0</td>\n",
       "      <td>290.0</td>\n",
       "      <td>0.0</td>\n",
       "    </tr>\n",
       "    <tr>\n",
       "      <th>...</th>\n",
       "      <td>...</td>\n",
       "      <td>...</td>\n",
       "      <td>...</td>\n",
       "      <td>...</td>\n",
       "      <td>...</td>\n",
       "    </tr>\n",
       "    <tr>\n",
       "      <th>Powerful1c</th>\n",
       "      <td>4.0</td>\n",
       "      <td>1.0</td>\n",
       "      <td>0.0</td>\n",
       "      <td>4.0</td>\n",
       "      <td>14.0</td>\n",
       "    </tr>\n",
       "    <tr>\n",
       "      <th>ineedfartz</th>\n",
       "      <td>4.0</td>\n",
       "      <td>1.0</td>\n",
       "      <td>0.0</td>\n",
       "      <td>4.0</td>\n",
       "      <td>0.0</td>\n",
       "    </tr>\n",
       "    <tr>\n",
       "      <th>KeyProgram2372</th>\n",
       "      <td>4.0</td>\n",
       "      <td>1.0</td>\n",
       "      <td>1.0</td>\n",
       "      <td>4.0</td>\n",
       "      <td>1.0</td>\n",
       "    </tr>\n",
       "    <tr>\n",
       "      <th>Intelligent_Path57</th>\n",
       "      <td>3.0</td>\n",
       "      <td>1.0</td>\n",
       "      <td>0.0</td>\n",
       "      <td>3.0</td>\n",
       "      <td>0.0</td>\n",
       "    </tr>\n",
       "    <tr>\n",
       "      <th>twitthis</th>\n",
       "      <td>2.0</td>\n",
       "      <td>1.0</td>\n",
       "      <td>0.0</td>\n",
       "      <td>2.0</td>\n",
       "      <td>18.0</td>\n",
       "    </tr>\n",
       "  </tbody>\n",
       "</table>\n",
       "<p>2909 rows × 5 columns</p>\n",
       "</div>"
      ],
      "text/plain": [
       "                     title_length  title_word_count  num_comments  \\\n",
       "author                                                              \n",
       "Important-Disk-256          300.0              58.0           0.0   \n",
       "Important_Meet_7167         300.0              54.0           1.0   \n",
       "harryp0thead                297.0              57.0           0.0   \n",
       "cptcardinal                 295.0              56.0           1.0   \n",
       "MarketXLS                   290.0              45.0           1.0   \n",
       "...                           ...               ...           ...   \n",
       "Powerful1c                    4.0               1.0           0.0   \n",
       "ineedfartz                    4.0               1.0           0.0   \n",
       "KeyProgram2372                4.0               1.0           1.0   \n",
       "Intelligent_Path57            3.0               1.0           0.0   \n",
       "twitthis                      2.0               1.0           0.0   \n",
       "\n",
       "                     selftext_length  selftext_word_count  \n",
       "author                                                     \n",
       "Important-Disk-256             300.0                  0.0  \n",
       "Important_Meet_7167            300.0                  1.0  \n",
       "harryp0thead                   297.0                  0.0  \n",
       "cptcardinal                    295.0                  0.0  \n",
       "MarketXLS                      290.0                  0.0  \n",
       "...                              ...                  ...  \n",
       "Powerful1c                       4.0                 14.0  \n",
       "ineedfartz                       4.0                  0.0  \n",
       "KeyProgram2372                   4.0                  1.0  \n",
       "Intelligent_Path57               3.0                  0.0  \n",
       "twitthis                         2.0                 18.0  \n",
       "\n",
       "[2909 rows x 5 columns]"
      ]
     },
     "execution_count": 350,
     "metadata": {},
     "output_type": "execute_result"
    }
   ],
   "source": [
    "df.groupby('author')['title_length', 'title_word_count','num_comments','selftext_length','selftext_word_count'].mean().sort_values(by='title_length', ascending=False)"
   ]
  },
  {
   "cell_type": "markdown",
   "id": "dcb30bc6-e6b7-45b0-812c-98bd0052757f",
   "metadata": {},
   "source": [
    "# 2.3 Preprocessing"
   ]
  },
  {
   "cell_type": "markdown",
   "id": "3e2f8d8a-a636-46aa-ae48-189ec9d0f8ac",
   "metadata": {
    "tags": []
   },
   "source": [
    "### 2.3.1 Most Common Words"
   ]
  },
  {
   "cell_type": "code",
   "execution_count": 351,
   "id": "d61526dd-9187-458a-ab4d-8b620b367458",
   "metadata": {},
   "outputs": [],
   "source": [
    "# Before doing the most common words, we're going to try lemmatizing and stemming\n",
    "# First we remove punctuation and contractions to get clean columns\n",
    "# Then we can tokenize\n",
    "# Then create functions for the lemmatizing and stemming\n",
    "# Finally we pass the previously cleaned columns to the functions\n"
   ]
  },
  {
   "cell_type": "markdown",
   "id": "34fd0e92-2e6d-4d95-9e8a-3055bf2f0449",
   "metadata": {},
   "source": [
    "**Remove Contractions from Title**"
   ]
  },
  {
   "cell_type": "code",
   "execution_count": 352,
   "id": "78b59fa7-030f-4bc4-8629-be6c14d1c7a3",
   "metadata": {},
   "outputs": [],
   "source": [
    "df['no_cont_title'] = df['title'].apply(lambda x: [contractions.fix(word) for word in x.split()]) # Removes contractions from the title\n",
    "# this give you back a list that needs to be re-combined in to a string before we can tokenize"
   ]
  },
  {
   "cell_type": "code",
   "execution_count": 353,
   "id": "afd57127-0ed8-4a98-9876-041d0f76438e",
   "metadata": {},
   "outputs": [],
   "source": [
    "df['no_cont_title'] = [' '.join(map(str, word)) for word in df['no_cont_title']] # From list to a string\n",
    "# with help from https://www.jquery-az.com/3-ways-convert-python-list-string-join-map-str/"
   ]
  },
  {
   "cell_type": "markdown",
   "id": "2dddeb1e-ac0d-47e3-b7c6-53e286e37052",
   "metadata": {},
   "source": [
    "**Remove Contractions from Selftext (post)**"
   ]
  },
  {
   "cell_type": "code",
   "execution_count": 354,
   "id": "e70e861c-7802-4804-a92d-88c7decf2200",
   "metadata": {},
   "outputs": [],
   "source": [
    "df['no_cont_selftext'] = df['selftext'].apply(lambda x: [contractions.fix(word) for word in x.split()]) # Removes contractions from the title\n",
    "# this give you back a list that needs to be re-combined in to a string before we can tokenize"
   ]
  },
  {
   "cell_type": "code",
   "execution_count": 355,
   "id": "b9853ff2-32b9-4d9c-b697-c47bfb4500be",
   "metadata": {},
   "outputs": [],
   "source": [
    "df['no_cont_selftext'] = [' '.join(map(str, word)) for word in df['no_cont_selftext']] # From list to a string\n",
    "# with help from https://www.jquery-az.com/3-ways-convert-python-list-string-join-map-str/"
   ]
  },
  {
   "cell_type": "markdown",
   "id": "b769f155-7979-434b-ac06-c2b3ea412f77",
   "metadata": {},
   "source": [
    "**Tokenize Title and Selftext (post)**"
   ]
  },
  {
   "cell_type": "code",
   "execution_count": 356,
   "id": "86d64756-ddfb-429f-92d1-aae3f9a04c70",
   "metadata": {},
   "outputs": [
    {
     "data": {
      "text/plain": [
       "Index(['options', 'stocks', 'stock', 'market', 'trading', 'question', 'option',\n",
       "       'calls', 'earnings', 'buy', 'puts', 'price', 'best', 'spy', 'selling'],\n",
       "      dtype='object')"
      ]
     },
     "execution_count": 356,
     "metadata": {},
     "output_type": "execute_result"
    }
   ],
   "source": [
    "cvec0 = CountVectorizer(\n",
    "    stop_words='english',\n",
    "     # ngram_range=(2,2)\n",
    ")\n",
    "cvec0.fit(df['no_cont_title'])\n",
    "csr = cvec0.transform(df['no_cont_title'])\n",
    "title_cvec0 = pd.DataFrame(csr.todense(), columns=cvec0.get_feature_names())\n",
    "#15 most common words\n",
    "title_cvec0.sum(axis=0).sort_values(ascending=False)[:15].index"
   ]
  },
  {
   "cell_type": "code",
   "execution_count": 357,
   "id": "d9556f2b-5792-4d9e-88c5-bfa84e68bc02",
   "metadata": {},
   "outputs": [
    {
     "data": {
      "image/png": "[encoded data removed]",
      "text/plain": [
       "<Figure size 720x720 with 1 Axes>"
      ]
     },
     "metadata": {
      "needs_background": "light"
     },
     "output_type": "display_data"
    }
   ],
   "source": [
    "plt.figure(figsize=(10,10))\n",
    "title_cvec0.sum(axis=0).sort_values(ascending=True).tail(15).plot(kind='barh').set(title='Most Common Title Words (pre-lemma)',xlabel='# of Occurences',ylabel='Words');"
   ]
  },
  {
   "cell_type": "markdown",
   "id": "f00ab982-64c3-4983-aa01-37f1059648bf",
   "metadata": {
    "jp-MarkdownHeadingCollapsed": true,
    "tags": []
   },
   "source": [
    "**15 Most Common Bigrams - Title (prior to lemma)**"
   ]
  },
  {
   "cell_type": "code",
   "execution_count": 358,
   "id": "2b6faa71-3c00-447b-a844-cbe5bea497c3",
   "metadata": {},
   "outputs": [],
   "source": [
    "cvec05 = CountVectorizer(\n",
    "    stop_words='english',\n",
    "    ngram_range=(2,2)\n",
    ")\n",
    "cvec05.fit(df['no_cont_title'])\n",
    "csr = cvec05.transform(df['no_cont_title'])\n",
    "title_cvec05 = pd.DataFrame(csr.todense(), columns=cvec05.get_feature_names())"
   ]
  },
  {
   "cell_type": "code",
   "execution_count": 359,
   "id": "a3574673-2ff2-4993-86f9-615196482f4e",
   "metadata": {},
   "outputs": [
    {
     "data": {
      "text/plain": [
       "Index(['stock market', 'options trading', 'covered calls', 'wash sale',\n",
       "       'credit spread', 'russia ukraine', 'long term', 'strike price',\n",
       "       'deep itm', 'need help', 'stocks daily', 'new options', 'selling puts',\n",
       "       'earnings report', 'iron condor'],\n",
       "      dtype='object')"
      ]
     },
     "execution_count": 359,
     "metadata": {},
     "output_type": "execute_result"
    }
   ],
   "source": [
    "#15 most common bigrams\n",
    "title_cvec05.sum(axis=0).sort_values(ascending=False)[:15].index"
   ]
  },
  {
   "cell_type": "code",
   "execution_count": 360,
   "id": "8f2d4d2c-cfde-4d19-b503-d21716c88cf6",
   "metadata": {},
   "outputs": [
    {
     "data": {
      "image/png": "[encoded data removed]",
      "text/plain": [
       "<Figure size 720x720 with 1 Axes>"
      ]
     },
     "metadata": {
      "needs_background": "light"
     },
     "output_type": "display_data"
    }
   ],
   "source": [
    "plt.figure(figsize=(10,10))\n",
    "title_cvec05.sum(axis=0).sort_values(ascending=True).tail(15).plot(kind='barh').set(title='Most Common Title Bigrams (prior to lemma)',xlabel='# of Occurences',ylabel='Bigram');"
   ]
  },
  {
   "cell_type": "markdown",
   "id": "38d10542-99c4-413f-a6f7-2d80802bc56f",
   "metadata": {},
   "source": [
    "**Lemma / Stemma Functions**"
   ]
  },
  {
   "cell_type": "code",
   "execution_count": 361,
   "id": "75df2778-d4fb-425f-a373-45d44e92e33f",
   "metadata": {},
   "outputs": [],
   "source": [
    "def lemma(str):\n",
    "    lemmatizer = WordNetLemmatizer()\n",
    "    return [lemmatizer.lemmatize(word) for word in str]\n",
    "# with help from GA NLP1 lesson"
   ]
  },
  {
   "cell_type": "code",
   "execution_count": 362,
   "id": "3a33332b-95f4-4516-8f13-e4354bc438c4",
   "metadata": {},
   "outputs": [],
   "source": [
    "def stemma(str):\n",
    "    stemmer = PorterStemmer()\n",
    "    return [stemmer.stem(word) for word in str]\n",
    "# with help from GA NLP1 lesson"
   ]
  },
  {
   "cell_type": "markdown",
   "id": "8bb46b08-c061-4110-ba3f-381450b62abf",
   "metadata": {},
   "source": [
    "**Lemma / Stemma Titles**"
   ]
  },
  {
   "cell_type": "code",
   "execution_count": 363,
   "id": "f92a3666-917e-4732-87d0-65c19b8629f3",
   "metadata": {},
   "outputs": [],
   "source": [
    " df['tokenized_title'] = df['no_cont_title'].apply(word_tokenize)"
   ]
  },
  {
   "cell_type": "code",
   "execution_count": 364,
   "id": "1ce59cfa-4a9e-456b-9525-090d88f62ade",
   "metadata": {},
   "outputs": [],
   "source": [
    " df['tokenized_selftext'] = df['no_cont_selftext'].apply(word_tokenize)"
   ]
  },
  {
   "cell_type": "code",
   "execution_count": 365,
   "id": "ab1ab682-1fff-4425-a955-c5f0a6c8a812",
   "metadata": {},
   "outputs": [],
   "source": [
    "df['lemma_title'] = df['tokenized_title'].apply(lemma) # Lemmatizes but gives a list\n",
    "df['lemma_title'] = df['lemma_title'].apply(lambda x: ' '.join([str(word) for word in x])) # From list to a string # Converts back to string\n",
    "#df['lemma_title'].head()"
   ]
  },
  {
   "cell_type": "code",
   "execution_count": 366,
   "id": "b7cd424c-5b7c-4840-956e-cf77341a18f6",
   "metadata": {},
   "outputs": [],
   "source": [
    "df['stemma_title'] = df['tokenized_title'].apply(lemma) # Stemma title but gives a list\n",
    "df['stemma_title'] = df['stemma_title'].apply(lambda x: ' '.join([str(word) for word in x])) # From list to a string # Converts back to string\n",
    "#df['stemma_title'].head()"
   ]
  },
  {
   "cell_type": "markdown",
   "id": "a8dfa542-6248-4acc-962c-290b5225eee0",
   "metadata": {},
   "source": [
    "**Lemma / Stemma Selftext (post)**"
   ]
  },
  {
   "cell_type": "code",
   "execution_count": 367,
   "id": "7adfdf02-d9b8-41c8-9238-3f753890b96e",
   "metadata": {},
   "outputs": [],
   "source": [
    "df['lemma_selftext'] = df['tokenized_selftext'].apply(lemma) # Lemmatizes but gives a list\n",
    "df['lemma_selftext'] = [' '.join(map(str, word)) for word in df['lemma_selftext']] # From list to a string # Converts back to string\n",
    "#df['lemma_selftext'].head()"
   ]
  },
  {
   "cell_type": "code",
   "execution_count": 368,
   "id": "b2a0a71f-7b9b-4e9a-bbcf-f520ce2e1005",
   "metadata": {},
   "outputs": [],
   "source": [
    "df['stemma_selftext'] = df['tokenized_selftext'].apply(lemma) # Stemma title but gives a list\n",
    "df['stemma_selftext'] = [' '.join(map(str, word)) for word in df['stemma_selftext']] # From list to a string # Converts back to string\n",
    "#df['stemma_selftext'].head()"
   ]
  },
  {
   "cell_type": "markdown",
   "id": "6b41d0f4-533d-4053-8b1c-a36bdc9a4ebb",
   "metadata": {},
   "source": [
    "**CountVectorize Title (lemma)**"
   ]
  },
  {
   "cell_type": "code",
   "execution_count": 369,
   "id": "a8a0d6e5-3ee8-479a-85ea-8f119558c86a",
   "metadata": {},
   "outputs": [],
   "source": [
    "cvec1 = CountVectorizer(\n",
    "    stop_words='english',\n",
    "     # ngram_range=(2,2)\n",
    ")\n",
    "cvec1.fit(df['lemma_title'])\n",
    "csr = cvec1.transform(df['lemma_title'])\n",
    "title_cvec1 = pd.DataFrame(csr.todense(), columns=cvec1.get_feature_names())\n",
    "\n",
    "#with help from https://stackoverflow.com/questions/28384680/scikit-learns-pipeline-a-sparse-matrix-was-passed-but-dense-data-is-required"
   ]
  },
  {
   "cell_type": "code",
   "execution_count": 370,
   "id": "2b92ecc6-0f00-4a2b-952a-c8a90b03e9cf",
   "metadata": {},
   "outputs": [
    {
     "data": {
      "text/html": [
       "<div>\n",
       "<style scoped>\n",
       "    .dataframe tbody tr th:only-of-type {\n",
       "        vertical-align: middle;\n",
       "    }\n",
       "\n",
       "    .dataframe tbody tr th {\n",
       "        vertical-align: top;\n",
       "    }\n",
       "\n",
       "    .dataframe thead th {\n",
       "        text-align: right;\n",
       "    }\n",
       "</style>\n",
       "<table border=\"1\" class=\"dataframe\">\n",
       "  <thead>\n",
       "    <tr style=\"text-align: right;\">\n",
       "      <th></th>\n",
       "      <th>00</th>\n",
       "      <th>000</th>\n",
       "      <th>01</th>\n",
       "      <th>010</th>\n",
       "      <th>02</th>\n",
       "      <th>04</th>\n",
       "      <th>04th</th>\n",
       "      <th>06</th>\n",
       "      <th>07</th>\n",
       "      <th>0830</th>\n",
       "      <th>...</th>\n",
       "      <th>zuckerberg</th>\n",
       "      <th>zutaten</th>\n",
       "      <th>দরজ</th>\n",
       "      <th>৭০০০</th>\n",
       "      <th>まだ掲示板に残ってる奴とかいるのかね</th>\n",
       "      <th>万事达</th>\n",
       "      <th>全自动交易</th>\n",
       "      <th>复盘和展望</th>\n",
       "      <th>最新动向</th>\n",
       "      <th>雑談会</th>\n",
       "    </tr>\n",
       "  </thead>\n",
       "  <tbody>\n",
       "    <tr>\n",
       "      <th>0</th>\n",
       "      <td>0</td>\n",
       "      <td>0</td>\n",
       "      <td>0</td>\n",
       "      <td>0</td>\n",
       "      <td>0</td>\n",
       "      <td>0</td>\n",
       "      <td>0</td>\n",
       "      <td>0</td>\n",
       "      <td>0</td>\n",
       "      <td>0</td>\n",
       "      <td>...</td>\n",
       "      <td>0</td>\n",
       "      <td>0</td>\n",
       "      <td>0</td>\n",
       "      <td>0</td>\n",
       "      <td>0</td>\n",
       "      <td>0</td>\n",
       "      <td>0</td>\n",
       "      <td>0</td>\n",
       "      <td>0</td>\n",
       "      <td>0</td>\n",
       "    </tr>\n",
       "    <tr>\n",
       "      <th>1</th>\n",
       "      <td>0</td>\n",
       "      <td>0</td>\n",
       "      <td>0</td>\n",
       "      <td>0</td>\n",
       "      <td>0</td>\n",
       "      <td>0</td>\n",
       "      <td>0</td>\n",
       "      <td>0</td>\n",
       "      <td>0</td>\n",
       "      <td>0</td>\n",
       "      <td>...</td>\n",
       "      <td>0</td>\n",
       "      <td>0</td>\n",
       "      <td>0</td>\n",
       "      <td>0</td>\n",
       "      <td>0</td>\n",
       "      <td>0</td>\n",
       "      <td>0</td>\n",
       "      <td>0</td>\n",
       "      <td>0</td>\n",
       "      <td>0</td>\n",
       "    </tr>\n",
       "    <tr>\n",
       "      <th>2</th>\n",
       "      <td>0</td>\n",
       "      <td>0</td>\n",
       "      <td>0</td>\n",
       "      <td>0</td>\n",
       "      <td>0</td>\n",
       "      <td>0</td>\n",
       "      <td>0</td>\n",
       "      <td>0</td>\n",
       "      <td>0</td>\n",
       "      <td>0</td>\n",
       "      <td>...</td>\n",
       "      <td>0</td>\n",
       "      <td>0</td>\n",
       "      <td>0</td>\n",
       "      <td>0</td>\n",
       "      <td>0</td>\n",
       "      <td>0</td>\n",
       "      <td>0</td>\n",
       "      <td>0</td>\n",
       "      <td>0</td>\n",
       "      <td>0</td>\n",
       "    </tr>\n",
       "    <tr>\n",
       "      <th>3</th>\n",
       "      <td>0</td>\n",
       "      <td>0</td>\n",
       "      <td>0</td>\n",
       "      <td>0</td>\n",
       "      <td>0</td>\n",
       "      <td>0</td>\n",
       "      <td>0</td>\n",
       "      <td>0</td>\n",
       "      <td>0</td>\n",
       "      <td>0</td>\n",
       "      <td>...</td>\n",
       "      <td>0</td>\n",
       "      <td>0</td>\n",
       "      <td>0</td>\n",
       "      <td>0</td>\n",
       "      <td>0</td>\n",
       "      <td>0</td>\n",
       "      <td>0</td>\n",
       "      <td>0</td>\n",
       "      <td>0</td>\n",
       "      <td>0</td>\n",
       "    </tr>\n",
       "    <tr>\n",
       "      <th>4</th>\n",
       "      <td>0</td>\n",
       "      <td>0</td>\n",
       "      <td>0</td>\n",
       "      <td>0</td>\n",
       "      <td>0</td>\n",
       "      <td>0</td>\n",
       "      <td>0</td>\n",
       "      <td>0</td>\n",
       "      <td>0</td>\n",
       "      <td>0</td>\n",
       "      <td>...</td>\n",
       "      <td>0</td>\n",
       "      <td>0</td>\n",
       "      <td>0</td>\n",
       "      <td>0</td>\n",
       "      <td>0</td>\n",
       "      <td>0</td>\n",
       "      <td>0</td>\n",
       "      <td>0</td>\n",
       "      <td>0</td>\n",
       "      <td>0</td>\n",
       "    </tr>\n",
       "  </tbody>\n",
       "</table>\n",
       "<p>5 rows × 4390 columns</p>\n",
       "</div>"
      ],
      "text/plain": [
       "   00  000  01  010  02  04  04th  06  07  0830  ...  zuckerberg  zutaten  \\\n",
       "0   0    0   0    0   0   0     0   0   0     0  ...           0        0   \n",
       "1   0    0   0    0   0   0     0   0   0     0  ...           0        0   \n",
       "2   0    0   0    0   0   0     0   0   0     0  ...           0        0   \n",
       "3   0    0   0    0   0   0     0   0   0     0  ...           0        0   \n",
       "4   0    0   0    0   0   0     0   0   0     0  ...           0        0   \n",
       "\n",
       "   দরজ  ৭০০০  まだ掲示板に残ってる奴とかいるのかね  万事达  全自动交易  复盘和展望  最新动向  雑談会  \n",
       "0    0     0                   0    0      0      0     0    0  \n",
       "1    0     0                   0    0      0      0     0    0  \n",
       "2    0     0                   0    0      0      0     0    0  \n",
       "3    0     0                   0    0      0      0     0    0  \n",
       "4    0     0                   0    0      0      0     0    0  \n",
       "\n",
       "[5 rows x 4390 columns]"
      ]
     },
     "execution_count": 370,
     "metadata": {},
     "output_type": "execute_result"
    }
   ],
   "source": [
    "title_cvec1.head()"
   ]
  },
  {
   "cell_type": "markdown",
   "id": "d88a243f-eb8e-483b-8760-780b4a8c694e",
   "metadata": {
    "jp-MarkdownHeadingCollapsed": true,
    "tags": []
   },
   "source": [
    "**15 Most Common Words - Title (lemma)**"
   ]
  },
  {
   "cell_type": "code",
   "execution_count": 371,
   "id": "5bdcf243-7b7b-4712-8d3b-4e5c40f577d4",
   "metadata": {},
   "outputs": [
    {
     "data": {
      "text/plain": [
       "Index(['stock', 'option', 'market', 'question', 'trading', 'earnings', 'buy',\n",
       "       'options', 'spread', 'price', 'stocks', 'spy', 'best', 'short',\n",
       "       'selling'],\n",
       "      dtype='object')"
      ]
     },
     "execution_count": 371,
     "metadata": {},
     "output_type": "execute_result"
    }
   ],
   "source": [
    "#15 most common words\n",
    "title_cvec1.sum(axis=0).sort_values(ascending=False)[:15].index"
   ]
  },
  {
   "cell_type": "code",
   "execution_count": 372,
   "id": "a4689015-7f52-4009-b3e0-9188ebd11812",
   "metadata": {},
   "outputs": [
    {
     "data": {
      "image/png": "[encoded data removed]",
      "text/plain": [
       "<Figure size 720x720 with 1 Axes>"
      ]
     },
     "metadata": {
      "needs_background": "light"
     },
     "output_type": "display_data"
    }
   ],
   "source": [
    "plt.figure(figsize=(10,10))\n",
    "title_cvec1.sum(axis=0).sort_values(ascending=True).tail(15).plot(kind='barh').set(title='Most Common Title Words (lemma)',xlabel='# of Occurences',ylabel='Words');"
   ]
  },
  {
   "cell_type": "code",
   "execution_count": null,
   "id": "a13aa86c-59de-4f82-a407-e63c3af0c3c3",
   "metadata": {},
   "outputs": [],
   "source": []
  },
  {
   "cell_type": "markdown",
   "id": "3673bffe-8534-487f-b0f9-7ddeb2571430",
   "metadata": {
    "jp-MarkdownHeadingCollapsed": true,
    "tags": []
   },
   "source": [
    "**15 Most Common Bigrams - Title (lemma)**"
   ]
  },
  {
   "cell_type": "code",
   "execution_count": 373,
   "id": "e08a333f-ac43-4ad3-a253-202ae68f1d93",
   "metadata": {},
   "outputs": [],
   "source": [
    "cvec2 = CountVectorizer(\n",
    "    stop_words='english',\n",
    "    ngram_range=(2,2)\n",
    ")\n",
    "cvec2.fit(df['lemma_title'])\n",
    "csr = cvec2.transform(df['lemma_title'])\n",
    "title_cvec2 = pd.DataFrame(csr.todense(), columns=cvec2.get_feature_names())"
   ]
  },
  {
   "cell_type": "code",
   "execution_count": 374,
   "id": "b2007186-4e1a-49d0-973b-4b8d5443d541",
   "metadata": {},
   "outputs": [
    {
     "data": {
      "text/plain": [
       "Index(['stock market', 'wash sale', 'credit spread', 'option trading',\n",
       "       'russia ukraine', 'strike price', 'long term', 'deep itm', 'need help',\n",
       "       'iron condor', 'debit spread', 'stocks daily', 'options trading',\n",
       "       'earnings report', 'new option'],\n",
       "      dtype='object')"
      ]
     },
     "execution_count": 374,
     "metadata": {},
     "output_type": "execute_result"
    }
   ],
   "source": [
    "#15 most common bigrams\n",
    "title_cvec2.sum(axis=0).sort_values(ascending=False)[:15].index"
   ]
  },
  {
   "cell_type": "code",
   "execution_count": 375,
   "id": "51f49e67-a152-4e7a-a9e1-3cf18bb2a494",
   "metadata": {},
   "outputs": [
    {
     "data": {
      "image/png": "[encoded data removed]",
      "text/plain": [
       "<Figure size 720x720 with 1 Axes>"
      ]
     },
     "metadata": {
      "needs_background": "light"
     },
     "output_type": "display_data"
    }
   ],
   "source": [
    "plt.figure(figsize=(10,10))\n",
    "title_cvec2.sum(axis=0).sort_values(ascending=True).tail(15).plot(kind='barh').set(title='Most Common Title Bigrams (lemma)',xlabel='# of Occurences',ylabel='Bigram');"
   ]
  },
  {
   "cell_type": "markdown",
   "id": "15801cb9-781d-46fd-8f17-ede029f5ff98",
   "metadata": {},
   "source": [
    "**CountVectorize Title (stemma)**"
   ]
  },
  {
   "cell_type": "code",
   "execution_count": 376,
   "id": "3dc4f59b-2194-4807-adef-98c097a5c941",
   "metadata": {},
   "outputs": [],
   "source": [
    "cvec3 = CountVectorizer(\n",
    "    stop_words='english',\n",
    "     # ngram_range=(2,2)\n",
    ")\n",
    "cvec3.fit(df['stemma_title'])\n",
    "csr = cvec3.transform(df['stemma_title'])\n",
    "title_cvec3 = pd.DataFrame(csr.todense(), columns=cvec3.get_feature_names())"
   ]
  },
  {
   "cell_type": "code",
   "execution_count": 377,
   "id": "8ca36520-dade-4874-8998-050be50b099b",
   "metadata": {
    "tags": []
   },
   "outputs": [
    {
     "data": {
      "text/html": [
       "<div>\n",
       "<style scoped>\n",
       "    .dataframe tbody tr th:only-of-type {\n",
       "        vertical-align: middle;\n",
       "    }\n",
       "\n",
       "    .dataframe tbody tr th {\n",
       "        vertical-align: top;\n",
       "    }\n",
       "\n",
       "    .dataframe thead th {\n",
       "        text-align: right;\n",
       "    }\n",
       "</style>\n",
       "<table border=\"1\" class=\"dataframe\">\n",
       "  <thead>\n",
       "    <tr style=\"text-align: right;\">\n",
       "      <th></th>\n",
       "      <th>00</th>\n",
       "      <th>000</th>\n",
       "      <th>01</th>\n",
       "      <th>010</th>\n",
       "      <th>02</th>\n",
       "      <th>04</th>\n",
       "      <th>04th</th>\n",
       "      <th>06</th>\n",
       "      <th>07</th>\n",
       "      <th>0830</th>\n",
       "      <th>...</th>\n",
       "      <th>zuckerberg</th>\n",
       "      <th>zutaten</th>\n",
       "      <th>দরজ</th>\n",
       "      <th>৭০০০</th>\n",
       "      <th>まだ掲示板に残ってる奴とかいるのかね</th>\n",
       "      <th>万事达</th>\n",
       "      <th>全自动交易</th>\n",
       "      <th>复盘和展望</th>\n",
       "      <th>最新动向</th>\n",
       "      <th>雑談会</th>\n",
       "    </tr>\n",
       "  </thead>\n",
       "  <tbody>\n",
       "    <tr>\n",
       "      <th>0</th>\n",
       "      <td>0</td>\n",
       "      <td>0</td>\n",
       "      <td>0</td>\n",
       "      <td>0</td>\n",
       "      <td>0</td>\n",
       "      <td>0</td>\n",
       "      <td>0</td>\n",
       "      <td>0</td>\n",
       "      <td>0</td>\n",
       "      <td>0</td>\n",
       "      <td>...</td>\n",
       "      <td>0</td>\n",
       "      <td>0</td>\n",
       "      <td>0</td>\n",
       "      <td>0</td>\n",
       "      <td>0</td>\n",
       "      <td>0</td>\n",
       "      <td>0</td>\n",
       "      <td>0</td>\n",
       "      <td>0</td>\n",
       "      <td>0</td>\n",
       "    </tr>\n",
       "    <tr>\n",
       "      <th>1</th>\n",
       "      <td>0</td>\n",
       "      <td>0</td>\n",
       "      <td>0</td>\n",
       "      <td>0</td>\n",
       "      <td>0</td>\n",
       "      <td>0</td>\n",
       "      <td>0</td>\n",
       "      <td>0</td>\n",
       "      <td>0</td>\n",
       "      <td>0</td>\n",
       "      <td>...</td>\n",
       "      <td>0</td>\n",
       "      <td>0</td>\n",
       "      <td>0</td>\n",
       "      <td>0</td>\n",
       "      <td>0</td>\n",
       "      <td>0</td>\n",
       "      <td>0</td>\n",
       "      <td>0</td>\n",
       "      <td>0</td>\n",
       "      <td>0</td>\n",
       "    </tr>\n",
       "    <tr>\n",
       "      <th>2</th>\n",
       "      <td>0</td>\n",
       "      <td>0</td>\n",
       "      <td>0</td>\n",
       "      <td>0</td>\n",
       "      <td>0</td>\n",
       "      <td>0</td>\n",
       "      <td>0</td>\n",
       "      <td>0</td>\n",
       "      <td>0</td>\n",
       "      <td>0</td>\n",
       "      <td>...</td>\n",
       "      <td>0</td>\n",
       "      <td>0</td>\n",
       "      <td>0</td>\n",
       "      <td>0</td>\n",
       "      <td>0</td>\n",
       "      <td>0</td>\n",
       "      <td>0</td>\n",
       "      <td>0</td>\n",
       "      <td>0</td>\n",
       "      <td>0</td>\n",
       "    </tr>\n",
       "    <tr>\n",
       "      <th>3</th>\n",
       "      <td>0</td>\n",
       "      <td>0</td>\n",
       "      <td>0</td>\n",
       "      <td>0</td>\n",
       "      <td>0</td>\n",
       "      <td>0</td>\n",
       "      <td>0</td>\n",
       "      <td>0</td>\n",
       "      <td>0</td>\n",
       "      <td>0</td>\n",
       "      <td>...</td>\n",
       "      <td>0</td>\n",
       "      <td>0</td>\n",
       "      <td>0</td>\n",
       "      <td>0</td>\n",
       "      <td>0</td>\n",
       "      <td>0</td>\n",
       "      <td>0</td>\n",
       "      <td>0</td>\n",
       "      <td>0</td>\n",
       "      <td>0</td>\n",
       "    </tr>\n",
       "    <tr>\n",
       "      <th>4</th>\n",
       "      <td>0</td>\n",
       "      <td>0</td>\n",
       "      <td>0</td>\n",
       "      <td>0</td>\n",
       "      <td>0</td>\n",
       "      <td>0</td>\n",
       "      <td>0</td>\n",
       "      <td>0</td>\n",
       "      <td>0</td>\n",
       "      <td>0</td>\n",
       "      <td>...</td>\n",
       "      <td>0</td>\n",
       "      <td>0</td>\n",
       "      <td>0</td>\n",
       "      <td>0</td>\n",
       "      <td>0</td>\n",
       "      <td>0</td>\n",
       "      <td>0</td>\n",
       "      <td>0</td>\n",
       "      <td>0</td>\n",
       "      <td>0</td>\n",
       "    </tr>\n",
       "  </tbody>\n",
       "</table>\n",
       "<p>5 rows × 4390 columns</p>\n",
       "</div>"
      ],
      "text/plain": [
       "   00  000  01  010  02  04  04th  06  07  0830  ...  zuckerberg  zutaten  \\\n",
       "0   0    0   0    0   0   0     0   0   0     0  ...           0        0   \n",
       "1   0    0   0    0   0   0     0   0   0     0  ...           0        0   \n",
       "2   0    0   0    0   0   0     0   0   0     0  ...           0        0   \n",
       "3   0    0   0    0   0   0     0   0   0     0  ...           0        0   \n",
       "4   0    0   0    0   0   0     0   0   0     0  ...           0        0   \n",
       "\n",
       "   দরজ  ৭০০০  まだ掲示板に残ってる奴とかいるのかね  万事达  全自动交易  复盘和展望  最新动向  雑談会  \n",
       "0    0     0                   0    0      0      0     0    0  \n",
       "1    0     0                   0    0      0      0     0    0  \n",
       "2    0     0                   0    0      0      0     0    0  \n",
       "3    0     0                   0    0      0      0     0    0  \n",
       "4    0     0                   0    0      0      0     0    0  \n",
       "\n",
       "[5 rows x 4390 columns]"
      ]
     },
     "execution_count": 377,
     "metadata": {},
     "output_type": "execute_result"
    }
   ],
   "source": [
    "title_cvec3.head()"
   ]
  },
  {
   "cell_type": "markdown",
   "id": "c74aaacb-c089-4834-8e44-9baf7baa7daa",
   "metadata": {
    "jp-MarkdownHeadingCollapsed": true,
    "tags": []
   },
   "source": [
    "**15 Most Common Words - Title (stemma)**"
   ]
  },
  {
   "cell_type": "code",
   "execution_count": 378,
   "id": "0d947c86-babe-4cca-b049-7ff264878fd2",
   "metadata": {},
   "outputs": [
    {
     "data": {
      "text/plain": [
       "Index(['stock', 'option', 'market', 'question', 'trading', 'earnings', 'buy',\n",
       "       'options', 'spread', 'price', 'stocks', 'spy', 'best', 'short',\n",
       "       'selling'],\n",
       "      dtype='object')"
      ]
     },
     "execution_count": 378,
     "metadata": {},
     "output_type": "execute_result"
    }
   ],
   "source": [
    "#15 most common words\n",
    "title_cvec3.sum(axis=0).sort_values(ascending=False)[:15].index"
   ]
  },
  {
   "cell_type": "code",
   "execution_count": 379,
   "id": "7eff42c4-af7d-4964-ad9e-06d3c6841da1",
   "metadata": {},
   "outputs": [
    {
     "data": {
      "image/png": "[encoded data removed]",
      "text/plain": [
       "<Figure size 720x720 with 1 Axes>"
      ]
     },
     "metadata": {
      "needs_background": "light"
     },
     "output_type": "display_data"
    }
   ],
   "source": [
    "plt.figure(figsize=(10,10))\n",
    "title_cvec3.sum(axis=0).sort_values(ascending=True).tail(15).plot(kind='barh').set(title='Most Common Title Words (stemma)',xlabel='# of Occurences',ylabel='Words');"
   ]
  },
  {
   "cell_type": "code",
   "execution_count": null,
   "id": "2a69337f-3564-4844-b045-5e594243ec67",
   "metadata": {},
   "outputs": [],
   "source": []
  },
  {
   "cell_type": "markdown",
   "id": "dad62d82-a45c-4796-8b8b-b49d10c963b5",
   "metadata": {
    "jp-MarkdownHeadingCollapsed": true,
    "tags": []
   },
   "source": [
    "**15 Most Common Bigrams - Title (stemma)**"
   ]
  },
  {
   "cell_type": "code",
   "execution_count": 380,
   "id": "920179eb-a18b-4402-95f0-4abd276a4050",
   "metadata": {},
   "outputs": [],
   "source": [
    "cvec4 = CountVectorizer(\n",
    "    stop_words='english',\n",
    "    ngram_range=(2,2)\n",
    ")\n",
    "cvec4.fit(df['lemma_title'])\n",
    "csr = cvec4.transform(df['lemma_title'])\n",
    "title_cvec4 = pd.DataFrame(csr.todense(), columns=cvec4.get_feature_names())"
   ]
  },
  {
   "cell_type": "code",
   "execution_count": 381,
   "id": "f1b4cda4-b863-4adb-bc2e-70ea57ef2abe",
   "metadata": {},
   "outputs": [
    {
     "data": {
      "text/plain": [
       "Index(['stock market', 'wash sale', 'credit spread', 'option trading',\n",
       "       'russia ukraine', 'strike price', 'long term', 'deep itm', 'need help',\n",
       "       'iron condor', 'debit spread', 'stocks daily', 'options trading',\n",
       "       'earnings report', 'new option'],\n",
       "      dtype='object')"
      ]
     },
     "execution_count": 381,
     "metadata": {},
     "output_type": "execute_result"
    }
   ],
   "source": [
    "#15 most common bigrams\n",
    "title_cvec4.sum(axis=0).sort_values(ascending=False)[:15].index"
   ]
  },
  {
   "cell_type": "code",
   "execution_count": 382,
   "id": "103aa0e1-8850-4f37-bf78-fd4b7bb797d4",
   "metadata": {},
   "outputs": [
    {
     "data": {
      "image/png": "[encoded data removed]",
      "text/plain": [
       "<Figure size 720x720 with 1 Axes>"
      ]
     },
     "metadata": {
      "needs_background": "light"
     },
     "output_type": "display_data"
    }
   ],
   "source": [
    "plt.figure(figsize=(10,10))\n",
    "title_cvec4.sum(axis=0).sort_values(ascending=True).tail(15).plot(kind='barh').set(title='Most Common Title Bigrams (stemma)',xlabel='# of Occurences',ylabel='Bigram');"
   ]
  },
  {
   "cell_type": "markdown",
   "id": "5c451859-0bca-41bc-88c5-7ff0b9d11d83",
   "metadata": {
    "tags": []
   },
   "source": [
    "### 2.3.2 Sentiment Analysis"
   ]
  },
  {
   "cell_type": "markdown",
   "id": "64f0ca72-6b99-41b5-a1bd-21abf5507dc0",
   "metadata": {
    "jp-MarkdownHeadingCollapsed": true,
    "tags": []
   },
   "source": [
    "**by Title**"
   ]
  },
  {
   "cell_type": "code",
   "execution_count": 383,
   "id": "8dedce9a-b668-4a4f-92bf-a653c4e1f03e",
   "metadata": {},
   "outputs": [],
   "source": [
    "def title_sentiment(row):\n",
    "    analyzer = SentimentIntensityAnalyzer()\n",
    "    res = analyzer.polarity_scores(row)\n",
    "    return pd.Series([res['neg'], res['neu'], res['pos'], res['compound']])\n",
    "\n",
    "df[['t_neg','t_neu','t_pos','t_compound']] = df['title'].apply(title_sentiment)\n",
    "\n",
    "# with help from https://www.geeksforgeeks.org/python-sentiment-analysis-using-vader/"
   ]
  },
  {
   "cell_type": "code",
   "execution_count": 384,
   "id": "5122e1e4-7f32-47d9-904b-12d5f97d8b99",
   "metadata": {},
   "outputs": [
    {
     "name": "stdout",
     "output_type": "stream",
     "text": [
      "Average Title Positive Score (r/Options): 0.09\n",
      "Average Title Positive Scoring (r/Stocks): 0.09\n",
      "---\n",
      "Average Title Negative Score (r/Options): 0.05\n",
      "Average Title Negative Score (r/Stocks): 0.05\n",
      "---\n",
      "Average Title Neutral Score (r/Options): 0.86\n",
      "Average Title Neutral Score (r/Stocks): 0.85\n",
      "---\n",
      "Average Title Compound Score (r/Options): 0.07\n",
      "Average Title Compound Score (r/Stocks): 0.05\n",
      "---\n"
     ]
    }
   ],
   "source": [
    "print(f\"Average Title Positive Score (r/Options): {round(df[df['subreddit']==0]['t_pos'].mean(),2)}\")\n",
    "print(f\"Average Title Positive Scoring (r/Stocks): {round(df[df['subreddit']==1]['t_pos'].mean(),2)}\")\n",
    "print('---')\n",
    "print(f\"Average Title Negative Score (r/Options): {round(df[df['subreddit']==0]['t_neg'].mean(),2)}\")\n",
    "print(f\"Average Title Negative Score (r/Stocks): {round(df[df['subreddit']==1]['t_neg'].mean(),2)}\")\n",
    "print('---')\n",
    "print(f\"Average Title Neutral Score (r/Options): {round(df[df['subreddit']==0]['t_neu'].mean(),2)}\")\n",
    "print(f\"Average Title Neutral Score (r/Stocks): {round(df[df['subreddit']==1]['t_neu'].mean(),2)}\")\n",
    "print('---')\n",
    "print(f\"Average Title Compound Score (r/Options): {round(df[df['subreddit']==0]['t_compound'].mean(),2)}\")\n",
    "print(f\"Average Title Compound Score (r/Stocks): {round(df[df['subreddit']==1]['t_compound'].mean(),2)}\")\n",
    "print('---')"
   ]
  },
  {
   "cell_type": "markdown",
   "id": "e9f57763-d3bd-4946-ab3b-a9840d4952b0",
   "metadata": {
    "jp-MarkdownHeadingCollapsed": true,
    "tags": []
   },
   "source": [
    "**by SelfText (Post)**"
   ]
  },
  {
   "cell_type": "code",
   "execution_count": 385,
   "id": "22ffde72-e5fb-4030-9b9d-9f3a53736ceb",
   "metadata": {},
   "outputs": [],
   "source": [
    "def selftext_sentiment(row):\n",
    "    analyzer = SentimentIntensityAnalyzer()\n",
    "    res = analyzer.polarity_scores(row)\n",
    "    return pd.Series([res['neg'], res['neu'], res['pos'], res['compound']])\n",
    "\n",
    "df[['s_neg','s_neu','s_pos','s_compound']] = df['selftext'].apply(selftext_sentiment)\n",
    "\n",
    "# with help from https://www.geeksforgeeks.org/python-sentiment-analysis-using-vader/"
   ]
  },
  {
   "cell_type": "code",
   "execution_count": 386,
   "id": "514095eb-379b-480e-9877-a54dfe42027b",
   "metadata": {},
   "outputs": [
    {
     "name": "stdout",
     "output_type": "stream",
     "text": [
      "Average Title Positive Score (r/Options): 0.06\n",
      "Average Title Positive Scoring (r/Stocks): 0.04\n",
      "---\n",
      "Average Title Negative Score (r/Options): 0.03\n",
      "Average Title Negative Score (r/Stocks): 0.02\n",
      "---\n",
      "Average Title Neutral Score (r/Options): 0.77\n",
      "Average Title Neutral Score (r/Stocks): 0.93\n",
      "---\n",
      "Average Title Compound Score (r/Options): 0.2\n",
      "Average Title Compound Score (r/Stocks): 0.16\n",
      "---\n"
     ]
    }
   ],
   "source": [
    "print(f\"Average Title Positive Score (r/Options): {round(df[df['subreddit']==0]['s_pos'].mean(),2)}\")\n",
    "print(f\"Average Title Positive Scoring (r/Stocks): {round(df[df['subreddit']==1]['s_pos'].mean(),2)}\")\n",
    "print('---')\n",
    "print(f\"Average Title Negative Score (r/Options): {round(df[df['subreddit']==0]['s_neg'].mean(),2)}\")\n",
    "print(f\"Average Title Negative Score (r/Stocks): {round(df[df['subreddit']==1]['s_neg'].mean(),2)}\")\n",
    "print('---')\n",
    "print(f\"Average Title Neutral Score (r/Options): {round(df[df['subreddit']==0]['s_neu'].mean(),2)}\")\n",
    "print(f\"Average Title Neutral Score (r/Stocks): {round(df[df['subreddit']==1]['s_neu'].mean(),2)}\")\n",
    "print('---')\n",
    "print(f\"Average Title Compound Score (r/Options): {round(df[df['subreddit']==0]['s_compound'].mean(),2)}\")\n",
    "print(f\"Average Title Compound Score (r/Stocks): {round(df[df['subreddit']==1]['s_compound'].mean(),2)}\")\n",
    "print('---')"
   ]
  },
  {
   "cell_type": "code",
   "execution_count": 387,
   "id": "23fe7405-d757-4f8b-b14e-fab211b22245",
   "metadata": {},
   "outputs": [],
   "source": [
    "option_sent= round(df[df['subreddit']==0]['s_pos'].mean(),2), round(df[df['subreddit']==0]['s_neg'].mean(),2),round(df[df['subreddit']==0]['s_neu'].mean(),2),round(df[df['subreddit']==0]['s_compound'].mean(),2)\n",
    "stock_sent = round(df[df['subreddit']==1]['s_pos'].mean(),2), round(df[df['subreddit']==1]['s_neg'].mean(),2),round(df[df['subreddit']==1]['s_neu'].mean(),2), round(df[df['subreddit']==1]['s_compound'].mean(),2)"
   ]
  },
  {
   "cell_type": "code",
   "execution_count": 388,
   "id": "068f2a73-6bef-403a-9ac3-67fc34d2ecbb",
   "metadata": {},
   "outputs": [
    {
     "data": {
      "image/png": "[encoded data removed]",
      "text/plain": [
       "<Figure size 432x288 with 1 Axes>"
      ]
     },
     "metadata": {
      "needs_background": "light"
     },
     "output_type": "display_data"
    }
   ],
   "source": [
    "sentiment = {'Options Score': option_sent, 'Stocks Score': stock_sent}\n",
    "result = pd.DataFrame(sentiment) \n",
    "result.plot.bar(color= [ 'darkorange','skyblue'])\n",
    "plt.xticks([0, 1, 2, 3], [\"Positive\", \"Negative\", \"Nuetral\", \"Compound\"],  rotation = 0)\n",
    "plt.xlabel('Sentiment')\n",
    "plt.ylabel('Polarity Scores')\n",
    "plt.legend(loc = 'best')\n",
    "plt.title('Sentiment Analysis')\n",
    "plt.show()"
   ]
  },
  {
   "cell_type": "code",
   "execution_count": 389,
   "id": "38914cb9-6d4c-4874-b725-0c40a6e2b28c",
   "metadata": {},
   "outputs": [
    {
     "name": "stdout",
     "output_type": "stream",
     "text": [
      "<class 'pandas.core.frame.DataFrame'>\n",
      "RangeIndex: 3998 entries, 0 to 3997\n",
      "Data columns (total 27 columns):\n",
      " #   Column               Non-Null Count  Dtype  \n",
      "---  ------               --------------  -----  \n",
      " 0   title                3998 non-null   object \n",
      " 1   author               3998 non-null   object \n",
      " 2   selftext             3998 non-null   object \n",
      " 3   media_only           3998 non-null   bool   \n",
      " 4   num_comments         3998 non-null   int64  \n",
      " 5   subreddit            3998 non-null   int64  \n",
      " 6   created_utc          3998 non-null   int64  \n",
      " 7   title_length         3998 non-null   int64  \n",
      " 8   title_word_count     3998 non-null   int64  \n",
      " 9   selftext_length      3998 non-null   int64  \n",
      " 10  selftext_word_count  3998 non-null   int64  \n",
      " 11  no_cont_title        3998 non-null   object \n",
      " 12  no_cont_selftext     3998 non-null   object \n",
      " 13  tokenized_title      3998 non-null   object \n",
      " 14  tokenized_selftext   3998 non-null   object \n",
      " 15  lemma_title          3998 non-null   object \n",
      " 16  stemma_title         3998 non-null   object \n",
      " 17  lemma_selftext       3998 non-null   object \n",
      " 18  stemma_selftext      3998 non-null   object \n",
      " 19  t_neg                3998 non-null   float64\n",
      " 20  t_neu                3998 non-null   float64\n",
      " 21  t_pos                3998 non-null   float64\n",
      " 22  t_compound           3998 non-null   float64\n",
      " 23  s_neg                3998 non-null   float64\n",
      " 24  s_neu                3998 non-null   float64\n",
      " 25  s_pos                3998 non-null   float64\n",
      " 26  s_compound           3998 non-null   float64\n",
      "dtypes: bool(1), float64(8), int64(7), object(11)\n",
      "memory usage: 816.1+ KB\n"
     ]
    }
   ],
   "source": [
    "df.info()"
   ]
  },
  {
   "cell_type": "markdown",
   "id": "b09682be-7f8f-46be-bc4a-41288682bc43",
   "metadata": {
    "jp-MarkdownHeadingCollapsed": true,
    "tags": []
   },
   "source": [
    "**Saving Cleaned Data**"
   ]
  },
  {
   "cell_type": "code",
   "execution_count": 390,
   "id": "09fa264c-02ea-4549-b5a4-582a41ed1aa7",
   "metadata": {},
   "outputs": [],
   "source": [
    "\n",
    "df.to_csv('../data/clean_data/reddit_content_clean.csv')    \n"
   ]
  },
  {
   "cell_type": "code",
   "execution_count": null,
   "id": "c14d1444-e165-4d44-af4c-8cc6727ee09e",
   "metadata": {},
   "outputs": [],
   "source": []
  }
 ],
 "metadata": {
  "kernelspec": {
   "display_name": "Python 3 (ipykernel)",
   "language": "python",
   "name": "python3"
  },
  "language_info": {
   "codemirror_mode": {
    "name": "ipython",
    "version": 3
   },
   "file_extension": ".py",
   "mimetype": "text/x-python",
   "name": "python",
   "nbconvert_exporter": "python",
   "pygments_lexer": "ipython3",
   "version": "3.9.7"
  }
 },
 "nbformat": 4,
 "nbformat_minor": 5
}
