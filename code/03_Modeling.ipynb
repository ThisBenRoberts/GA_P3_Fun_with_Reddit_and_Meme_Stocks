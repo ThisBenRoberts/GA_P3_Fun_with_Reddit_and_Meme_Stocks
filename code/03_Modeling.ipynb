{
 "cells": [
  {
   "cell_type": "markdown",
   "id": "7b9770f7-b62b-4cb0-92ff-a391feded4ef",
   "metadata": {},
   "source": [
    "# 3.0 Modeling "
   ]
  },
  {
   "cell_type": "code",
   "execution_count": 90,
   "id": "7c80b224-811b-4c72-82ff-8d9a32e66e75",
   "metadata": {},
   "outputs": [],
   "source": [
    "import pandas as pd\n",
    "import numpy as np\n",
    "import seaborn as sns\n",
    "import matplotlib.pyplot as plt\n",
    "\n",
    "from sklearn.linear_model import LogisticRegression\n",
    "from sklearn.feature_extraction.text import CountVectorizer\n",
    "from sklearn.pipeline import Pipeline\n",
    "from sklearn.model_selection import train_test_split, GridSearchCV, RandomizedSearchCV\n",
    "\n",
    "from sklearn.metrics import plot_confusion_matrix, confusion_matrix\n",
    "from sklearn.ensemble import RandomForestClassifier\n",
    "from sklearn.neighbors import KNeighborsClassifier"
   ]
  },
  {
   "cell_type": "code",
   "execution_count": 91,
   "id": "2b52cb88-f0ee-4ae5-9350-a4536939f13d",
   "metadata": {},
   "outputs": [
    {
     "data": {
      "text/html": [
       "<div>\n",
       "<style scoped>\n",
       "    .dataframe tbody tr th:only-of-type {\n",
       "        vertical-align: middle;\n",
       "    }\n",
       "\n",
       "    .dataframe tbody tr th {\n",
       "        vertical-align: top;\n",
       "    }\n",
       "\n",
       "    .dataframe thead th {\n",
       "        text-align: right;\n",
       "    }\n",
       "</style>\n",
       "<table border=\"1\" class=\"dataframe\">\n",
       "  <thead>\n",
       "    <tr style=\"text-align: right;\">\n",
       "      <th></th>\n",
       "      <th>Unnamed: 0</th>\n",
       "      <th>title</th>\n",
       "      <th>author</th>\n",
       "      <th>selftext</th>\n",
       "      <th>media_only</th>\n",
       "      <th>num_comments</th>\n",
       "      <th>subreddit</th>\n",
       "      <th>created_utc</th>\n",
       "      <th>title_length</th>\n",
       "      <th>title_word_count</th>\n",
       "      <th>...</th>\n",
       "      <th>lemma_selftext</th>\n",
       "      <th>stemma_selftext</th>\n",
       "      <th>t_neg</th>\n",
       "      <th>t_neu</th>\n",
       "      <th>t_pos</th>\n",
       "      <th>t_compound</th>\n",
       "      <th>s_neg</th>\n",
       "      <th>s_neu</th>\n",
       "      <th>s_pos</th>\n",
       "      <th>s_compound</th>\n",
       "    </tr>\n",
       "  </thead>\n",
       "  <tbody>\n",
       "    <tr>\n",
       "      <th>0</th>\n",
       "      <td>0</td>\n",
       "      <td>Is there anyway to Trade US options in UK</td>\n",
       "      <td>yoghin</td>\n",
       "      <td>I can't find any platforms that offer US optio...</td>\n",
       "      <td>False</td>\n",
       "      <td>0</td>\n",
       "      <td>0</td>\n",
       "      <td>1645974032</td>\n",
       "      <td>41</td>\n",
       "      <td>9</td>\n",
       "      <td>...</td>\n",
       "      <td>I can not find any platform that offer US opti...</td>\n",
       "      <td>I can not find any platform that offer US opti...</td>\n",
       "      <td>0.0</td>\n",
       "      <td>1.000</td>\n",
       "      <td>0.000</td>\n",
       "      <td>0.0000</td>\n",
       "      <td>0.000</td>\n",
       "      <td>0.876</td>\n",
       "      <td>0.124</td>\n",
       "      <td>0.1779</td>\n",
       "    </tr>\n",
       "    <tr>\n",
       "      <th>1</th>\n",
       "      <td>1</td>\n",
       "      <td>NVDA's short leg</td>\n",
       "      <td>listenless</td>\n",
       "      <td>I bought 240-200  Jan 2023 bear puts spread o...</td>\n",
       "      <td>False</td>\n",
       "      <td>0</td>\n",
       "      <td>0</td>\n",
       "      <td>1645971541</td>\n",
       "      <td>16</td>\n",
       "      <td>3</td>\n",
       "      <td>...</td>\n",
       "      <td>I bought 240-200 Jan 2023 bear put spread on N...</td>\n",
       "      <td>I bought 240-200 Jan 2023 bear put spread on N...</td>\n",
       "      <td>0.0</td>\n",
       "      <td>1.000</td>\n",
       "      <td>0.000</td>\n",
       "      <td>0.0000</td>\n",
       "      <td>0.094</td>\n",
       "      <td>0.816</td>\n",
       "      <td>0.090</td>\n",
       "      <td>-0.1830</td>\n",
       "    </tr>\n",
       "    <tr>\n",
       "      <th>2</th>\n",
       "      <td>2</td>\n",
       "      <td>Patrick Boyle breaks down tons of consequences...</td>\n",
       "      <td>professorfundamental</td>\n",
       "      <td>This video: \\n\\n[https://www.youtube.com/watch...</td>\n",
       "      <td>False</td>\n",
       "      <td>0</td>\n",
       "      <td>0</td>\n",
       "      <td>1645955748</td>\n",
       "      <td>152</td>\n",
       "      <td>25</td>\n",
       "      <td>...</td>\n",
       "      <td>This video : [ http : //www.youtube.com/watch ...</td>\n",
       "      <td>This video : [ http : //www.youtube.com/watch ...</td>\n",
       "      <td>0.0</td>\n",
       "      <td>0.923</td>\n",
       "      <td>0.077</td>\n",
       "      <td>0.2500</td>\n",
       "      <td>0.053</td>\n",
       "      <td>0.873</td>\n",
       "      <td>0.075</td>\n",
       "      <td>0.5122</td>\n",
       "    </tr>\n",
       "    <tr>\n",
       "      <th>3</th>\n",
       "      <td>3</td>\n",
       "      <td>Did a play paper trading on TOS. Made $900 now...</td>\n",
       "      <td>doyzoe</td>\n",
       "      <td>NaN</td>\n",
       "      <td>False</td>\n",
       "      <td>1</td>\n",
       "      <td>0</td>\n",
       "      <td>1645954258</td>\n",
       "      <td>125</td>\n",
       "      <td>26</td>\n",
       "      <td>...</td>\n",
       "      <td>NaN</td>\n",
       "      <td>NaN</td>\n",
       "      <td>0.0</td>\n",
       "      <td>0.783</td>\n",
       "      <td>0.217</td>\n",
       "      <td>0.6249</td>\n",
       "      <td>0.000</td>\n",
       "      <td>0.000</td>\n",
       "      <td>0.000</td>\n",
       "      <td>0.0000</td>\n",
       "    </tr>\n",
       "    <tr>\n",
       "      <th>4</th>\n",
       "      <td>4</td>\n",
       "      <td>Patrick Boyle breaks down tons of consequences...</td>\n",
       "      <td>professorfundamental</td>\n",
       "      <td>NaN</td>\n",
       "      <td>False</td>\n",
       "      <td>1</td>\n",
       "      <td>0</td>\n",
       "      <td>1645951913</td>\n",
       "      <td>152</td>\n",
       "      <td>25</td>\n",
       "      <td>...</td>\n",
       "      <td>NaN</td>\n",
       "      <td>NaN</td>\n",
       "      <td>0.0</td>\n",
       "      <td>0.923</td>\n",
       "      <td>0.077</td>\n",
       "      <td>0.2500</td>\n",
       "      <td>0.000</td>\n",
       "      <td>0.000</td>\n",
       "      <td>0.000</td>\n",
       "      <td>0.0000</td>\n",
       "    </tr>\n",
       "  </tbody>\n",
       "</table>\n",
       "<p>5 rows × 28 columns</p>\n",
       "</div>"
      ],
      "text/plain": [
       "   Unnamed: 0                                              title  \\\n",
       "0           0          Is there anyway to Trade US options in UK   \n",
       "1           1                                   NVDA's short leg   \n",
       "2           2  Patrick Boyle breaks down tons of consequences...   \n",
       "3           3  Did a play paper trading on TOS. Made $900 now...   \n",
       "4           4  Patrick Boyle breaks down tons of consequences...   \n",
       "\n",
       "                 author                                           selftext  \\\n",
       "0                yoghin  I can't find any platforms that offer US optio...   \n",
       "1            listenless   I bought 240-200  Jan 2023 bear puts spread o...   \n",
       "2  professorfundamental  This video: \\n\\n[https://www.youtube.com/watch...   \n",
       "3                doyzoe                                                NaN   \n",
       "4  professorfundamental                                                NaN   \n",
       "\n",
       "   media_only  num_comments  subreddit  created_utc  title_length  \\\n",
       "0       False             0          0   1645974032            41   \n",
       "1       False             0          0   1645971541            16   \n",
       "2       False             0          0   1645955748           152   \n",
       "3       False             1          0   1645954258           125   \n",
       "4       False             1          0   1645951913           152   \n",
       "\n",
       "   title_word_count  ...                                     lemma_selftext  \\\n",
       "0                 9  ...  I can not find any platform that offer US opti...   \n",
       "1                 3  ...  I bought 240-200 Jan 2023 bear put spread on N...   \n",
       "2                25  ...  This video : [ http : //www.youtube.com/watch ...   \n",
       "3                26  ...                                                NaN   \n",
       "4                25  ...                                                NaN   \n",
       "\n",
       "                                     stemma_selftext t_neg  t_neu  t_pos  \\\n",
       "0  I can not find any platform that offer US opti...   0.0  1.000  0.000   \n",
       "1  I bought 240-200 Jan 2023 bear put spread on N...   0.0  1.000  0.000   \n",
       "2  This video : [ http : //www.youtube.com/watch ...   0.0  0.923  0.077   \n",
       "3                                                NaN   0.0  0.783  0.217   \n",
       "4                                                NaN   0.0  0.923  0.077   \n",
       "\n",
       "  t_compound  s_neg  s_neu  s_pos s_compound  \n",
       "0     0.0000  0.000  0.876  0.124     0.1779  \n",
       "1     0.0000  0.094  0.816  0.090    -0.1830  \n",
       "2     0.2500  0.053  0.873  0.075     0.5122  \n",
       "3     0.6249  0.000  0.000  0.000     0.0000  \n",
       "4     0.2500  0.000  0.000  0.000     0.0000  \n",
       "\n",
       "[5 rows x 28 columns]"
      ]
     },
     "execution_count": 91,
     "metadata": {},
     "output_type": "execute_result"
    }
   ],
   "source": [
    "df = pd.read_csv('../data/clean_data/reddit_content_clean.csv')\n",
    "df.head()"
   ]
  },
  {
   "cell_type": "markdown",
   "id": "cd2fc1e8-ad47-4b40-af96-9eb240b184f4",
   "metadata": {},
   "source": [
    "**Find and Fill missing values**"
   ]
  },
  {
   "cell_type": "code",
   "execution_count": 92,
   "id": "9a4d9098-ac8d-4c27-96d3-4945374d15e5",
   "metadata": {},
   "outputs": [
    {
     "data": {
      "text/plain": [
       "Unnamed: 0               0\n",
       "title                    0\n",
       "author                   0\n",
       "selftext               298\n",
       "media_only               0\n",
       "num_comments             0\n",
       "subreddit                0\n",
       "created_utc              0\n",
       "title_length             0\n",
       "title_word_count         0\n",
       "selftext_length          0\n",
       "selftext_word_count      0\n",
       "no_cont_title            0\n",
       "no_cont_selftext       298\n",
       "tokenized_title          0\n",
       "tokenized_selftext       0\n",
       "lemma_title              0\n",
       "stemma_title             0\n",
       "lemma_selftext         298\n",
       "stemma_selftext        298\n",
       "t_neg                    0\n",
       "t_neu                    0\n",
       "t_pos                    0\n",
       "t_compound               0\n",
       "s_neg                    0\n",
       "s_neu                    0\n",
       "s_pos                    0\n",
       "s_compound               0\n",
       "dtype: int64"
      ]
     },
     "execution_count": 92,
     "metadata": {},
     "output_type": "execute_result"
    }
   ],
   "source": [
    "df.isnull().sum()"
   ]
  },
  {
   "cell_type": "code",
   "execution_count": 93,
   "id": "80a3fffb-d7fd-40b3-862f-cb1fa58fee37",
   "metadata": {
    "tags": []
   },
   "outputs": [],
   "source": [
    "df.fillna({'selftext':'','no_cont_selftext':'','lemma_selftext':'','stemma_selftext':''}, inplace=True)"
   ]
  },
  {
   "cell_type": "code",
   "execution_count": 94,
   "id": "aa66cdca-be1f-4dc6-babe-28532887d3b9",
   "metadata": {},
   "outputs": [
    {
     "data": {
      "text/plain": [
       "Unnamed: 0             0\n",
       "title                  0\n",
       "author                 0\n",
       "selftext               0\n",
       "media_only             0\n",
       "num_comments           0\n",
       "subreddit              0\n",
       "created_utc            0\n",
       "title_length           0\n",
       "title_word_count       0\n",
       "selftext_length        0\n",
       "selftext_word_count    0\n",
       "no_cont_title          0\n",
       "no_cont_selftext       0\n",
       "tokenized_title        0\n",
       "tokenized_selftext     0\n",
       "lemma_title            0\n",
       "stemma_title           0\n",
       "lemma_selftext         0\n",
       "stemma_selftext        0\n",
       "t_neg                  0\n",
       "t_neu                  0\n",
       "t_pos                  0\n",
       "t_compound             0\n",
       "s_neg                  0\n",
       "s_neu                  0\n",
       "s_pos                  0\n",
       "s_compound             0\n",
       "dtype: int64"
      ]
     },
     "execution_count": 94,
     "metadata": {},
     "output_type": "execute_result"
    }
   ],
   "source": [
    "df.isnull().sum()"
   ]
  },
  {
   "cell_type": "markdown",
   "id": "ee0391d6-5fa8-4c14-82a9-8c25f6095348",
   "metadata": {},
   "source": [
    "**Model Data Setup**"
   ]
  },
  {
   "cell_type": "code",
   "execution_count": 95,
   "id": "0554a5db-5b19-46bc-9766-c6e17995d4c6",
   "metadata": {},
   "outputs": [
    {
     "data": {
      "text/plain": [
       "0             Is there anyway to Trade US option in UK\n",
       "1                                    NVDA 's short leg\n",
       "2    Patrick Boyle break down ton of consequence of...\n",
       "3    Did a play paper trading on TOS . Made $ 900 n...\n",
       "4    Patrick Boyle break down ton of consequence of...\n",
       "Name: lemma_title, dtype: object"
      ]
     },
     "execution_count": 95,
     "metadata": {},
     "output_type": "execute_result"
    }
   ],
   "source": [
    "# X = df['title']\n",
    "X = df['lemma_title']\n",
    "# X = df['stemma_title']\n",
    "\n",
    "# X = df['selftext']\n",
    "# X = df['lemma_selftext']\n",
    "# X = df['stemma_selftext']\n",
    "\n",
    "X.head()"
   ]
  },
  {
   "cell_type": "code",
   "execution_count": 96,
   "id": "ebe6094d-6314-4d23-89c4-7a68289486d1",
   "metadata": {},
   "outputs": [
    {
     "data": {
      "text/plain": [
       "0    0\n",
       "1    0\n",
       "2    0\n",
       "3    0\n",
       "4    0\n",
       "Name: subreddit, dtype: int64"
      ]
     },
     "execution_count": 96,
     "metadata": {},
     "output_type": "execute_result"
    }
   ],
   "source": [
    "y = df['subreddit']\n",
    "y.head()"
   ]
  },
  {
   "cell_type": "code",
   "execution_count": 97,
   "id": "e8e9b95a-72ea-4f51-906b-12e437cc38ad",
   "metadata": {},
   "outputs": [
    {
     "data": {
      "text/plain": [
       "0    0.50025\n",
       "1    0.49975\n",
       "Name: subreddit, dtype: float64"
      ]
     },
     "execution_count": 97,
     "metadata": {},
     "output_type": "execute_result"
    }
   ],
   "source": [
    "y.value_counts(normalize=True)   # baseline is 50.025% accurate"
   ]
  },
  {
   "cell_type": "code",
   "execution_count": 98,
   "id": "c899c822-5b5e-4423-9f8e-3577b78c7118",
   "metadata": {},
   "outputs": [],
   "source": [
    "X_train, X_test, y_train, y_test = train_test_split(X,y,random_state=42, stratify=y)"
   ]
  },
  {
   "cell_type": "markdown",
   "id": "1acb10a6-9418-4a67-a478-b529b8b64d57",
   "metadata": {},
   "source": [
    "**3.1 Logistic Regression and Count Vectorizer**"
   ]
  },
  {
   "cell_type": "code",
   "execution_count": 99,
   "id": "b17749c9-8d7a-4d62-96e2-fee53b03d537",
   "metadata": {},
   "outputs": [
    {
     "name": "stdout",
     "output_type": "stream",
     "text": [
      "Fitting 5 folds for each of 6 candidates, totalling 30 fits\n",
      "0.827877017250974\n",
      "{'lr__max_iter': 1000, 'vect__ngram_range': (1, 2), 'vect__stop_words': None}\n"
     ]
    },
    {
     "data": {
      "image/png": "[encoded data removed]",
      "text/plain": [
       "<Figure size 432x288 with 2 Axes>"
      ]
     },
     "metadata": {
      "needs_background": "light"
     },
     "output_type": "display_data"
    }
   ],
   "source": [
    "pipe = Pipeline([\n",
    "    ('vect', CountVectorizer()),\n",
    "    ('lr', LogisticRegression(random_state=42))\n",
    "])\n",
    "\n",
    "# Just trying to get a feel for the scores on train vs test data\n",
    "# pipe.fit(X_train,y_train)\n",
    "# pipe.score(X_train, y_train), pipe.score(X_test, y_test)\n",
    "params = { \n",
    "            'vect__stop_words':[None,'english'],\n",
    "            # 'lr__penalty':['l1', 'l2', 'elasticnet', 'none'],    #l2, Ridge, is default\n",
    "            'lr__max_iter': [1000],\n",
    "            'vect__ngram_range' : [(1,1),(1,2),(2,2)]\n",
    "}\n",
    "\n",
    "\n",
    "gs = GridSearchCV(    pipe,         # What is the model we want to fit?\n",
    "                      param_grid = params,  # What is the dictionary of hyperparameters?\n",
    "                      cv=5,           # What number of folds in CV will we use?\n",
    "                      verbose=1)\n",
    "\n",
    "gs.fit(X_train,y_train)\n",
    "print(gs.best_score_)   # <- Crossval score\n",
    "print(gs.best_params_)\n",
    "plot_confusion_matrix(gs, X_test, y_test, display_labels=['Options','Stocks']);\n",
    "\n",
    "# with help from https://scikit-learn.org/stable/modules/generated/sklearn.model_selection.GridSearchCV.html\n",
    "# and https://scikit-learn.org/stable/modules/generated/sklearn.linear_model.LogisticRegression.html"
   ]
  },
  {
   "cell_type": "markdown",
   "id": "d01e637f-8910-49d6-b88e-f2e728bee421",
   "metadata": {},
   "source": [
    "**3.3 Random Forest and Count Vectorizer**"
   ]
  },
  {
   "cell_type": "code",
   "execution_count": 100,
   "id": "b9d9c4ed-181c-4030-aaec-0ae8ed4be2ce",
   "metadata": {},
   "outputs": [
    {
     "name": "stdout",
     "output_type": "stream",
     "text": [
      "Fitting 5 folds for each of 6 candidates, totalling 30 fits\n",
      "0.8368953811908737\n",
      "{'vect__ngram_range': (1, 2), 'vect__stop_words': None}\n"
     ]
    },
    {
     "data": {
      "image/png": "[encoded data removed]",
      "text/plain": [
       "<Figure size 432x288 with 2 Axes>"
      ]
     },
     "metadata": {
      "needs_background": "light"
     },
     "output_type": "display_data"
    }
   ],
   "source": [
    "pipe2 = Pipeline([\n",
    "    ('vect', CountVectorizer()),\n",
    "    ('rf', RandomForestClassifier(random_state=42))\n",
    "])\n",
    "params2 = { \n",
    "            'vect__stop_words':[None,'english'],\n",
    "            'vect__ngram_range' : [(1,1),(1,2),(2,2)]\n",
    "}\n",
    "gs2 = GridSearchCV(    pipe2,         # What is the model we want to fit?\n",
    "                      param_grid = params2,  # What is the dictionary of hyperparameters?\n",
    "                      cv=5,           # What number of folds in CV will we use?\n",
    "                      verbose=1)\n",
    "\n",
    "gs2.fit(X_train,y_train)\n",
    "print(gs2.best_score_)   # <- Crossval score\n",
    "print(gs2.best_params_)\n",
    "plot_confusion_matrix(gs2, X_test, y_test, display_labels=['Options','Stocks']);"
   ]
  },
  {
   "cell_type": "markdown",
   "id": "f5b7c438-b321-4599-aff3-cf1539e0f85c",
   "metadata": {},
   "source": [
    "**3.4 K Neighbors and Count Vectorizer**"
   ]
  },
  {
   "cell_type": "code",
   "execution_count": 101,
   "id": "dec293e4-8fc0-4c90-b7b8-b74185fa3247",
   "metadata": {},
   "outputs": [
    {
     "name": "stdout",
     "output_type": "stream",
     "text": [
      "Fitting 5 folds for each of 6 candidates, totalling 30 fits\n",
      "0.7374785754034503\n",
      "{'vect__ngram_range': (1, 1), 'vect__stop_words': 'english'}\n"
     ]
    },
    {
     "data": {
      "image/png": "[encoded data removed]",
      "text/plain": [
       "<Figure size 432x288 with 2 Axes>"
      ]
     },
     "metadata": {
      "needs_background": "light"
     },
     "output_type": "display_data"
    }
   ],
   "source": [
    "pipe3 = Pipeline([\n",
    "    ('vect', CountVectorizer()),\n",
    "    ('knn', KNeighborsClassifier())\n",
    "])\n",
    "\n",
    "params3 = {\n",
    "     'vect__stop_words':[None,'english'],\n",
    "     'vect__ngram_range' : [(1,1),(1,2),(2,2)]\n",
    "}\n",
    "\n",
    "gs3 = GridSearchCV(    pipe3,         # What is the model we want to fit?\n",
    "                      param_grid = params3,  # What is the dictionary of hyperparameters?\n",
    "                      cv=5,           # What number of folds in CV will we use?\n",
    "                      verbose=1)\n",
    "\n",
    "gs3.fit(X_train,y_train)\n",
    "print(gs3.best_score_)   # <- Crossval score\n",
    "print(gs3.best_params_)\n",
    "plot_confusion_matrix(gs3, X_test, y_test, display_labels=['Options','Stocks']);"
   ]
  },
  {
   "cell_type": "code",
   "execution_count": 102,
   "id": "80f2e70c-5381-49b8-9c7d-a3be371504b9",
   "metadata": {},
   "outputs": [
    {
     "name": "stdout",
     "output_type": "stream",
     "text": [
      "LogReg Score: 0.828\n",
      "Random Forest Score: 0.837\n",
      "KNeighbors Score: 0.737\n",
      "\n",
      "LogReg Best Params: {'lr__max_iter': 1000, 'vect__ngram_range': (1, 2), 'vect__stop_words': None}\n",
      "Random Forest Best Params: {'vect__ngram_range': (1, 2), 'vect__stop_words': None}\n",
      "KNeighbors Best Params: {'vect__ngram_range': (1, 1), 'vect__stop_words': 'english'}\n"
     ]
    }
   ],
   "source": [
    "print(f\"LogReg Score: {round(gs.best_score_,3)}\")  \n",
    "print(f\"Random Forest Score: {round(gs2.best_score_,3)}\") \n",
    "print(f\"KNeighbors Score: {round(gs3.best_score_,3)}\") \n",
    "print(f\"\\nLogReg Best Params: {gs.best_params_}\")\n",
    "print(f\"Random Forest Best Params: {gs2.best_params_}\")\n",
    "print(f\"KNeighbors Best Params: {gs3.best_params_}\")"
   ]
  },
  {
   "cell_type": "markdown",
   "id": "9c908906-eab5-4deb-89fb-8279d682f511",
   "metadata": {},
   "source": [
    "# 3.1 Model Selection "
   ]
  },
  {
   "cell_type": "markdown",
   "id": "57b6b0bb-a68e-4fc4-923b-6ac9fbef5299",
   "metadata": {},
   "source": [
    "After running the models against the original titles, the lemmatized titles, and stemmed titles, it looks like the Random Forest model with the lemmatized titles gives us the best cross_val_score. The next step is to attempt to optimize the model by adjusting hyperparameters. At the bottom of this notebook, we have saved all of the tracking data from each of the different combinations of model/title/subtext."
   ]
  },
  {
   "cell_type": "markdown",
   "id": "65b59012-00f6-40c3-9bf2-eefe104b6634",
   "metadata": {},
   "source": [
    "**Scores based on Lemma Title**\n",
    "<br> Random Forest Score: 0.835\n",
    "<br> Random Forest Best Params: {'vect__ngram_range': (1, 1), 'vect__stop_words': None}\n",
    "<br>\n",
    "<br>\n",
    "<br>You'll notice below that we also ran the selftext (post) content through all of the models.  The scores on the selftext data are all lower but 15% of the selftext data was null.  We believe that given more time, we could optimize around the selftext data."
   ]
  },
  {
   "cell_type": "markdown",
   "id": "f3fb52b5-55d1-435c-8018-5f4b228887f6",
   "metadata": {},
   "source": [
    "# 3.2 Model Tuning "
   ]
  },
  {
   "cell_type": "code",
   "execution_count": 103,
   "id": "bb838f62-3488-47d1-8372-70cfcfb91a02",
   "metadata": {},
   "outputs": [],
   "source": [
    "X = df['lemma_title']\n",
    "y = df['subreddit']\n",
    "X_train, X_test, y_train, y_test = train_test_split(X,y,random_state=42, stratify=y)"
   ]
  },
  {
   "cell_type": "code",
   "execution_count": 104,
   "id": "e69cbd1a-0e77-4d3e-8890-69262a0d30e2",
   "metadata": {},
   "outputs": [
    {
     "name": "stdout",
     "output_type": "stream",
     "text": [
      "Fitting 5 folds for each of 10 candidates, totalling 50 fits\n",
      "0.8232136894824709\n",
      "{'vect__stop_words': None, 'vect__ngram_range': (1, 2), 'rf__n_estimators': 800, 'rf__min_samples_split': 5, 'rf__min_samples_leaf': 4, 'rf__max_depth': 60, 'rf__bootstrap': False}\n"
     ]
    },
    {
     "data": {
      "image/png": "[encoded data removed]",
      "text/plain": [
       "<Figure size 432x288 with 2 Axes>"
      ]
     },
     "metadata": {
      "needs_background": "light"
     },
     "output_type": "display_data"
    }
   ],
   "source": [
    "pipe4 = Pipeline([\n",
    "    ('vect', CountVectorizer()),\n",
    "    ('rf', RandomForestClassifier(random_state=42))\n",
    "])\n",
    "params4 = { \n",
    "            'vect__stop_words':[None,'english'],\n",
    "            'vect__ngram_range' : [(1,1),(1,2),(2,2)],\n",
    "            'rf__bootstrap': [True, False],\n",
    "            'rf__min_samples_leaf': [1, 2, 4],\n",
    "            'rf__min_samples_split': [2, 5, 10]   ,\n",
    "            'rf__n_estimators':[200, 400, 600, 800, 1000, 1200, 1400, 1600, 1800, 2000]    ,\n",
    "            'rf__max_depth': [10, 20, 30, 40, 50, 60, 70, 80, 90, 100, None]   \n",
    "    \n",
    "}\n",
    "gs4 = RandomizedSearchCV(    pipe4,         # What is the model we want to fit?\n",
    "                      param_distributions = params4,  # What is the dictionary of hyperparameters?\n",
    "                      cv=5,           # What number of folds in CV will we use?\n",
    "                      verbose=1)\n",
    "# When trying GridSearchCV, this was attempging more than 59,000 fits.  Decided to use RandomizedSearch instead.\n",
    "gs4.fit(X_train,y_train)\n",
    "print(gs4.best_score_)   # <- Crossval score\n",
    "print(gs4.best_params_)\n",
    "plot_confusion_matrix(gs4, X_test, y_test, display_labels=['Options','Stocks']);\n",
    "\n",
    "#Tuning was done with a lot help from https://towardsdatascience.com/hyperparameter-tuning-the-random-forest-in-python-using-scikit-learn-28d2aa77dd74"
   ]
  },
  {
   "cell_type": "markdown",
   "id": "37d5a9cf-df0f-4a36-b000-f9321b2054b0",
   "metadata": {},
   "source": [
    "# 3.3 Model Evaluation "
   ]
  },
  {
   "cell_type": "code",
   "execution_count": 119,
   "id": "616f8d66-774b-4962-91b5-ca76528c48f0",
   "metadata": {},
   "outputs": [
    {
     "name": "stdout",
     "output_type": "stream",
     "text": [
      "Accuracy:  0.815\n",
      "Misclassification Rate:  0.185\n",
      "Sensitivity:  0.916\n",
      "Specificity:  0.714\n",
      "Precision:  0.762063227953411\n"
     ]
    }
   ],
   "source": [
    "preds = gs4.predict(X_test)\n",
    "tn, fp, fn, tp = confusion_matrix(y_test, preds).ravel()\n",
    "print(\"Accuracy: \", (tn + tp) / (tn + fp + fn + tp))\n",
    "print('Misclassification Rate: ', (fp+fn)/(tp+fp+tn+fn))\n",
    "\n",
    "print(\"Sensitivity: \", tp / (tp + fn))\n",
    "print(\"Specificity: \", tn / (tn + fp))\n",
    "print(\"Precision: \", tp / (tp + fp))"
   ]
  },
  {
   "cell_type": "code",
   "execution_count": 106,
   "id": "5c1f8680-28fb-4159-85cd-8b5cdfb80817",
   "metadata": {},
   "outputs": [
    {
     "name": "stdout",
     "output_type": "stream",
     "text": [
      "357 143 42 458\n"
     ]
    }
   ],
   "source": [
    "print(tn, fp, fn, tp)"
   ]
  },
  {
   "cell_type": "code",
   "execution_count": 131,
   "id": "e001e245-68d4-4f94-bd57-bba9e387a551",
   "metadata": {},
   "outputs": [
    {
     "data": {
      "text/plain": [
       "[Text(0, 0.5, 'Options'), Text(0, 1.5, 'Stocks')]"
      ]
     },
     "execution_count": 131,
     "metadata": {},
     "output_type": "execute_result"
    },
    {
     "data": {
      "image/png": "[encoded data removed]",
      "text/plain": [
       "<Figure size 432x288 with 2 Axes>"
      ]
     },
     "metadata": {
      "needs_background": "light"
     },
     "output_type": "display_data"
    }
   ],
   "source": [
    "group_names = ['True Neg','False Pos','False Neg','True Pos']\n",
    "\n",
    "group_counts = [\"{0:0.0f}\".format(value) for value in\n",
    "                cf_matrix.flatten()]\n",
    "\n",
    "group_percentages = [\"{0:.2%}\".format(value) for value in\n",
    "                     cf_matrix.flatten()/np.sum(cf_matrix)]\n",
    "\n",
    "labels = [f\"{v1}\\n{v2}\\n{v3}\" for v1, v2, v3 in\n",
    "          zip(group_names,group_counts,group_percentages)]\n",
    "\n",
    "labels = np.asarray(labels).reshape(2,2)\n",
    "\n",
    "ax = sns.heatmap(cf_matrix, annot=labels, fmt='', cmap='Blues')\n",
    "ax.set_title('Confusion Matrix for Subreddit Predictions\\n');\n",
    "ax.set_xlabel('\\nPredicted Subreddits')\n",
    "ax.set_ylabel('Actual Subreddits\\n');\n",
    "ax.xaxis.set_ticklabels(['Options','Stocks'])\n",
    "ax.yaxis.set_ticklabels(['Options','Stocks'])\n",
    "\n",
    "# with help from https://www.stackvidhya.com/plot-confusion-matrix-in-python-and-why/"
   ]
  },
  {
   "cell_type": "code",
   "execution_count": 107,
   "id": "55fbe8bf-b4ac-4ab3-92f6-73e70932c947",
   "metadata": {
    "tags": []
   },
   "outputs": [
    {
     "data": {
      "text/plain": [
       "748                            Price data at 3:45 v 4pm ?\n",
       "929                    Trading during such uncertain time\n",
       "1248                   Mildly Educational Memes ( Day 1 )\n",
       "489                                Podcast recommendation\n",
       "860                     Fed Rate increase v Impact to Rho\n",
       "                              ...                        \n",
       "154           Do you recommend sticking to a few ticker ?\n",
       "640                      What just happened with AFRM ? ?\n",
       "50                                Free money at no cost !\n",
       "821     The last time Americans liked their president ...\n",
       "2707                       Quick Tax / wash sale question\n",
       "Name: lemma_title, Length: 185, dtype: object"
      ]
     },
     "execution_count": 107,
     "metadata": {},
     "output_type": "execute_result"
    }
   ],
   "source": [
    "#which were misclassified\n",
    "X_test[y_test != preds]\n",
    "\n",
    "#this wasn't too helpful.  Going to build a new dataframe and do some more analytics on the misclassified titles if there is enough time"
   ]
  },
  {
   "cell_type": "code",
   "execution_count": 108,
   "id": "fa16c2c7-81e7-48ff-838f-8d6489d37b51",
   "metadata": {},
   "outputs": [],
   "source": [
    "# New dataframe to hopefully understand some of the misclassifications\n",
    "predictions = pd.DataFrame({\n",
    "    'Title' : X_test, \n",
    "    'Actual_Reddit' : y_test, \n",
    "    'Predicted_Reddit' : gs.predict(X_test),\n",
    "    'Prob_Options' : [i[0] for i in gs.predict_proba(X_test)],\n",
    "    'Prob_Stocks' : [i[1] for i in gs.predict_proba(X_test)]})\n",
    "\n",
    "predictions['Corr_Incorr'] = np.where(predictions['Actual_Reddit'] == predictions['Predicted_Reddit'], 'Correct', 'Incorrect')\n",
    "predictions['Difference'] = np.abs(predictions['Prob_Options'] - predictions['Prob_Stocks'])\n",
    "\n",
    "# with help from https://stackoverflow.com/questions/19913659/pandas-conditional-creation-of-a-series-dataframe-column"
   ]
  },
  {
   "cell_type": "code",
   "execution_count": 109,
   "id": "eb87747b-a41f-42b9-9b13-04ca4f2ac990",
   "metadata": {},
   "outputs": [
    {
     "data": {
      "text/html": [
       "<div>\n",
       "<style scoped>\n",
       "    .dataframe tbody tr th:only-of-type {\n",
       "        vertical-align: middle;\n",
       "    }\n",
       "\n",
       "    .dataframe tbody tr th {\n",
       "        vertical-align: top;\n",
       "    }\n",
       "\n",
       "    .dataframe thead th {\n",
       "        text-align: right;\n",
       "    }\n",
       "</style>\n",
       "<table border=\"1\" class=\"dataframe\">\n",
       "  <thead>\n",
       "    <tr style=\"text-align: right;\">\n",
       "      <th></th>\n",
       "      <th>Title</th>\n",
       "      <th>Actual_Reddit</th>\n",
       "      <th>Predicted_Reddit</th>\n",
       "      <th>Prob_Options</th>\n",
       "      <th>Prob_Stocks</th>\n",
       "      <th>Corr_Incorr</th>\n",
       "      <th>Difference</th>\n",
       "    </tr>\n",
       "  </thead>\n",
       "  <tbody>\n",
       "    <tr>\n",
       "      <th>748</th>\n",
       "      <td>Price data at 3:45 v 4pm ?</td>\n",
       "      <td>0</td>\n",
       "      <td>0</td>\n",
       "      <td>0.547205</td>\n",
       "      <td>0.452795</td>\n",
       "      <td>Correct</td>\n",
       "      <td>0.094410</td>\n",
       "    </tr>\n",
       "    <tr>\n",
       "      <th>252</th>\n",
       "      <td>I need help deciding my exit strategy for an S...</td>\n",
       "      <td>0</td>\n",
       "      <td>0</td>\n",
       "      <td>0.981710</td>\n",
       "      <td>0.018290</td>\n",
       "      <td>Correct</td>\n",
       "      <td>0.963420</td>\n",
       "    </tr>\n",
       "    <tr>\n",
       "      <th>1069</th>\n",
       "      <td>Goodmorning . What is the better option beginn...</td>\n",
       "      <td>0</td>\n",
       "      <td>0</td>\n",
       "      <td>0.972364</td>\n",
       "      <td>0.027636</td>\n",
       "      <td>Correct</td>\n",
       "      <td>0.944729</td>\n",
       "    </tr>\n",
       "    <tr>\n",
       "      <th>2886</th>\n",
       "      <td>What is the best ETF ?</td>\n",
       "      <td>1</td>\n",
       "      <td>1</td>\n",
       "      <td>0.174399</td>\n",
       "      <td>0.825601</td>\n",
       "      <td>Correct</td>\n",
       "      <td>0.651202</td>\n",
       "    </tr>\n",
       "    <tr>\n",
       "      <th>902</th>\n",
       "      <td>$ BITO put are being dumped on the bid and cal...</td>\n",
       "      <td>0</td>\n",
       "      <td>0</td>\n",
       "      <td>0.924253</td>\n",
       "      <td>0.075747</td>\n",
       "      <td>Correct</td>\n",
       "      <td>0.848506</td>\n",
       "    </tr>\n",
       "  </tbody>\n",
       "</table>\n",
       "</div>"
      ],
      "text/plain": [
       "                                                  Title  Actual_Reddit  \\\n",
       "748                          Price data at 3:45 v 4pm ?              0   \n",
       "252   I need help deciding my exit strategy for an S...              0   \n",
       "1069  Goodmorning . What is the better option beginn...              0   \n",
       "2886                             What is the best ETF ?              1   \n",
       "902   $ BITO put are being dumped on the bid and cal...              0   \n",
       "\n",
       "      Predicted_Reddit  Prob_Options  Prob_Stocks Corr_Incorr  Difference  \n",
       "748                  0      0.547205     0.452795     Correct    0.094410  \n",
       "252                  0      0.981710     0.018290     Correct    0.963420  \n",
       "1069                 0      0.972364     0.027636     Correct    0.944729  \n",
       "2886                 1      0.174399     0.825601     Correct    0.651202  \n",
       "902                  0      0.924253     0.075747     Correct    0.848506  "
      ]
     },
     "execution_count": 109,
     "metadata": {},
     "output_type": "execute_result"
    }
   ],
   "source": [
    "predictions.head()"
   ]
  },
  {
   "cell_type": "markdown",
   "id": "7c0fa630-1939-47ed-ba07-dffb3e18822b",
   "metadata": {},
   "source": [
    "**Previous Model Scores**\n",
    "<br>Below we tracked each of the testing score as we tried different models and data including the selftext (post) content through all of the models.  The scores on the selftext data are all lower but 15% of the selftext data was null.  We believe that given more time, we could optimize around the selftext data.  It should be noted that these scores changed each time the model ran until we finally set a RandomState for each model. "
   ]
  },
  {
   "cell_type": "code",
   "execution_count": 110,
   "id": "5ecc484f-6506-4218-9646-42da94b27c07",
   "metadata": {},
   "outputs": [],
   "source": [
    "# Scores based on Original Title\n",
    "# LogReg Score: 0.82\n",
    "# Random Forest Score: 0.829\n",
    "# KNeighbors Score: 0.751\n",
    "\n",
    "# LogReg Best Params: {'lr__max_iter': 1000, 'vect__ngram_range': (1, 2), 'vect__stop_words': None}\n",
    "# Random Forest Best Params: {'vect__ngram_range': (1, 1), 'vect__stop_words': None}\n",
    "# KNeighbors Best Params: {'vect__ngram_range': (1, 1), 'vect__stop_words': 'english'}"
   ]
  },
  {
   "cell_type": "code",
   "execution_count": 111,
   "id": "028b034d-9d06-4e2d-aab8-f2594236fb84",
   "metadata": {},
   "outputs": [],
   "source": [
    "# Scores based on Lemma Title\n",
    "# LogReg Score: 0.828\n",
    "# Random Forest Score: 0.835\n",
    "# KNeighbors Score: 0.737\n",
    "\n",
    "# LogReg Best Params: {'lr__max_iter': 1000, 'vect__ngram_range': (1, 2), 'vect__stop_words': None}\n",
    "# Random Forest Best Params: {'vect__ngram_range': (1, 1), 'vect__stop_words': None}\n",
    "# KNeighbors Best Params: {'vect__ngram_range': (1, 1), 'vect__stop_words': 'english'}"
   ]
  },
  {
   "cell_type": "code",
   "execution_count": 112,
   "id": "0d55065a-fe13-4515-b88a-6d560dcc87b4",
   "metadata": {},
   "outputs": [],
   "source": [
    "# Scores based on Stemma Title\n",
    "# LogReg Score: 0.828\n",
    "# Random Forest Score: 0.833\n",
    "# KNeighbors Score: 0.737\n",
    "\n",
    "# LogReg Best Params: {'lr__max_iter': 1000, 'vect__ngram_range': (1, 2), 'vect__stop_words': None}\n",
    "# Random Forest Best Params: {'vect__ngram_range': (1, 1), 'vect__stop_words': None}\n",
    "# KNeighbors Best Params: {'vect__ngram_range': (1, 1), 'vect__stop_words': 'english'}"
   ]
  },
  {
   "cell_type": "code",
   "execution_count": 113,
   "id": "0e543ab9-8fb4-4934-a685-1fe7697f240d",
   "metadata": {},
   "outputs": [],
   "source": [
    "# Scores based on Original Selftext \n",
    "# LogReg Score: 0.769\n",
    "# Random Forest Score: 0.771\n",
    "# KNeighbors Score: 0.648\n",
    "\n",
    "# LogReg Best Params: {'lr__max_iter': 1000, 'vect__ngram_range': (1, 1), 'vect__stop_words': None}\n",
    "# Random Forest Best Params: {'vect__ngram_range': (1, 1), 'vect__stop_words': 'english'}\n",
    "# KNeighbors Best Params: {'vect__ngram_range': (1, 1), 'vect__stop_words': None}"
   ]
  },
  {
   "cell_type": "code",
   "execution_count": 114,
   "id": "5ad9b51f-8f20-4e88-8f35-bfeb3ab449b6",
   "metadata": {},
   "outputs": [],
   "source": [
    "# Scores based on Lemma Selftext \n",
    "# LogReg Score: 0.769\n",
    "# Random Forest Score: 0.77\n",
    "# KNeighbors Score: 0.662\n",
    "\n",
    "# LogReg Best Params: {'lr__max_iter': 1000, 'vect__ngram_range': (1, 1), 'vect__stop_words': 'english'}\n",
    "# Random Forest Best Params: {'vect__ngram_range': (1, 1), 'vect__stop_words': None}\n",
    "# KNeighbors Best Params: {'vect__ngram_range': (1, 1), 'vect__stop_words': None}"
   ]
  },
  {
   "cell_type": "code",
   "execution_count": 115,
   "id": "069ae269-e4bf-4b2f-823f-cd6cd4afa987",
   "metadata": {},
   "outputs": [],
   "source": [
    "# Scores based on Stemma Selftext \n",
    "# LogReg Score: 0.769\n",
    "# Random Forest Score: 0.772\n",
    "# KNeighbors Score: 0.662\n",
    "\n",
    "# LogReg Best Params: {'lr__max_iter': 1000, 'vect__ngram_range': (1, 1), 'vect__stop_words': 'english'}\n",
    "# Random Forest Best Params: {'vect__ngram_range': (1, 1), 'vect__stop_words': None}\n",
    "# KNeighbors Best Params: {'vect__ngram_range': (1, 1), 'vect__stop_words': None}"
   ]
  },
  {
   "cell_type": "markdown",
   "id": "5f619b60-f3b8-473e-9a84-a505f64e7026",
   "metadata": {},
   "source": [
    "**Recommendations**\n",
    "<br>The first recommendation to improve the model would be to gather data from discrete periods of time, rather by the number of posts.   As time goes on, the social, political, and economic conditions that affect the market and topics being discussed on social media will change. The topics that affect stocks and options will overlap but not always as the prices are controlled by different factors. And since the number of posts per day is drastically different for r/Stocks vs r/Options, if we pulled data from the last week, rather than the 500 newest posts, we could probably do a better job of predicting which subreddit the post came from.  This article from Merril does a pretty good job explaining how options are priced https://www.merrilledge.com/investment-products/options/options-pricing-valuation \n",
    "<br>\n",
    "<br>\n",
    "For all of the reasons mentioned above, I would also try to include the actual date of the post as a feature.   Similarly, I would like to examine the text and dates of the comments as features in the model.  Almost certainly some particular equities are more popular and being discessed with greater frequency at any given point in time.  Given that the titles are short, there may be more clues in the comments as to which subreddit a particular post came from. \n",
    "<br>\n",
    "<br>\n",
    "Given more time, a few other things I would like to try include identifying the ticker symbols being discussed using RegEx, more detailed analysis on sentiment and stop words, and identifying correlations between authors, commentors, and the subreddit of origin.\n",
    "<br>\n",
    "<br> \n",
    "Lastly, I would use GridSearchCV, rather than RandomSearchCV, to find the best combination of hyperparameters.  Originally, GridSearchCV was attempting more than 59,000 different combinations.  For the sake of time, this plan was abandoned."
   ]
  },
  {
   "cell_type": "markdown",
   "id": "57b17187-7f89-491b-80bd-494e9b1e356b",
   "metadata": {},
   "source": [
    "\n",
    "**Conclusions**\n",
    "<br> While there are a number of posts in foreign languages, many with no selftext, and a few different tactics we would like to employ in order to improve accuracy, the model is still accurate about 82% of the time in predicting the origin subreddit based on the lemmatized title of the post. This represents an improvement above the baseline of 32%."
   ]
  },
  {
   "cell_type": "code",
   "execution_count": null,
   "id": "db04b994-8521-43f8-8c57-127f9fbec566",
   "metadata": {},
   "outputs": [],
   "source": []
  },
  {
   "cell_type": "code",
   "execution_count": null,
   "id": "5748a463-fe5f-427b-80fd-a11d4af7dee4",
   "metadata": {},
   "outputs": [],
   "source": []
  }
 ],
 "metadata": {
  "kernelspec": {
   "display_name": "Python 3 (ipykernel)",
   "language": "python",
   "name": "python3"
  },
  "language_info": {
   "codemirror_mode": {
    "name": "ipython",
    "version": 3
   },
   "file_extension": ".py",
   "mimetype": "text/x-python",
   "name": "python",
   "nbconvert_exporter": "python",
   "pygments_lexer": "ipython3",
   "version": "3.9.7"
  }
 },
 "nbformat": 4,
 "nbformat_minor": 5
}
